{
 "cells": [
  {
   "cell_type": "code",
   "execution_count": 1,
   "id": "726a2c83",
   "metadata": {},
   "outputs": [],
   "source": [
    "import pandas as pd\n",
    "import unicodedata\n",
    "import json\n",
    "import json\n",
    "from datetime import date\n"
   ]
  },
  {
   "cell_type": "code",
   "execution_count": 2,
   "id": "2ba1f08a",
   "metadata": {},
   "outputs": [],
   "source": [
    "# Función para normalizar nombres de canciones (quita espacios extra y pasa a minúsculas)\n",
    "def normalize(song):\n",
    "    song = song.strip().lower()\n",
    "    song = ''.join(c for c in unicodedata.normalize('NFKD', song) if not unicodedata.combining(c) or c == 'ñ')\n",
    "    return song\n"
   ]
  },
  {
   "cell_type": "code",
   "execution_count": 3,
   "id": "1c5890b7",
   "metadata": {},
   "outputs": [],
   "source": [
    "# Cargar los archivos JSON\n",
    "with open(r'C:\\Users\\Yo\\Desktop\\setlist\\SetlistFM-Setlist-Evolution\\album_data\\Los Piojos.json', 'r', encoding='utf-8') as f:\n",
    "    albums_data = json.load(f)\n",
    "\n",
    "\n",
    "with open('Setlists_Piojos.json', 'r', encoding='utf-8') as f:\n",
    "    setlists_data = json.load(f)"
   ]
  },
  {
   "cell_type": "code",
   "execution_count": 4,
   "id": "fc01efa9",
   "metadata": {},
   "outputs": [],
   "source": [
    "\n",
    "# Crear diccionarios para mapear cada canción a su álbum y a su color\n",
    "song_to_album = {}\n",
    "song_to_color = {}\n",
    "for album in albums_data.get(\"albums\", []):\n",
    "    album_title = album.get(\"title\", \"Ineditos\")\n",
    "    color = album.get(\"color\", \"gray\")\n",
    "    for track in album.get(\"tracks\", []):\n",
    "        norm_track = normalize(track)\n",
    "        # Si la canción aparece en varios álbumes, se asigna el primero encontrado\n",
    "        if norm_track not in song_to_album:\n",
    "            song_to_album[norm_track] = album_title\n",
    "            song_to_color[norm_track] = color\n",
    "\n",
    "# Crear un diccionario que mapea cada álbum a su color en formato HEX\n",
    "album_to_color = {}\n",
    "for album in albums_data.get(\"albums\", []):\n",
    "    album_to_color[album.get(\"title\", \"Ineditos\")] = album.get(\"color\", \"#39df00\")"
   ]
  },
  {
   "cell_type": "code",
   "execution_count": 5,
   "id": "ad9cf94d",
   "metadata": {},
   "outputs": [
    {
     "data": {
      "text/html": [
       "<div>\n",
       "<style scoped>\n",
       "    .dataframe tbody tr th:only-of-type {\n",
       "        vertical-align: middle;\n",
       "    }\n",
       "\n",
       "    .dataframe tbody tr th {\n",
       "        vertical-align: top;\n",
       "    }\n",
       "\n",
       "    .dataframe thead th {\n",
       "        text-align: right;\n",
       "    }\n",
       "</style>\n",
       "<table border=\"1\" class=\"dataframe\">\n",
       "  <thead>\n",
       "    <tr style=\"text-align: right;\">\n",
       "      <th></th>\n",
       "      <th>fecha</th>\n",
       "      <th>lugar</th>\n",
       "      <th>canción</th>\n",
       "      <th>álbum</th>\n",
       "      <th>color</th>\n",
       "    </tr>\n",
       "  </thead>\n",
       "  <tbody>\n",
       "    <tr>\n",
       "      <th>0</th>\n",
       "      <td>1991-09-21</td>\n",
       "      <td>Boa Vista, Buenos Aires, Argentina</td>\n",
       "      <td>Blues Del Gato Sarnoso</td>\n",
       "      <td>Ineditos</td>\n",
       "      <td>#d57f5c</td>\n",
       "    </tr>\n",
       "    <tr>\n",
       "      <th>1</th>\n",
       "      <td>1991-09-21</td>\n",
       "      <td>Boa Vista, Buenos Aires, Argentina</td>\n",
       "      <td>Los Mocosos</td>\n",
       "      <td>Chac Tu Chac</td>\n",
       "      <td>#1e2830</td>\n",
       "    </tr>\n",
       "    <tr>\n",
       "      <th>2</th>\n",
       "      <td>1991-09-21</td>\n",
       "      <td>Boa Vista, Buenos Aires, Argentina</td>\n",
       "      <td>Blues Del Traje Gris</td>\n",
       "      <td>Chac Tu Chac</td>\n",
       "      <td>#1e2830</td>\n",
       "    </tr>\n",
       "    <tr>\n",
       "      <th>3</th>\n",
       "      <td>1991-09-21</td>\n",
       "      <td>Boa Vista, Buenos Aires, Argentina</td>\n",
       "      <td>Chac Tu Chac</td>\n",
       "      <td>Chac Tu Chac</td>\n",
       "      <td>#1e2830</td>\n",
       "    </tr>\n",
       "    <tr>\n",
       "      <th>4</th>\n",
       "      <td>1991-09-21</td>\n",
       "      <td>Boa Vista, Buenos Aires, Argentina</td>\n",
       "      <td>Babilonia</td>\n",
       "      <td>Ay Ay Ay</td>\n",
       "      <td>#c41616</td>\n",
       "    </tr>\n",
       "    <tr>\n",
       "      <th>...</th>\n",
       "      <td>...</td>\n",
       "      <td>...</td>\n",
       "      <td>...</td>\n",
       "      <td>...</td>\n",
       "      <td>...</td>\n",
       "    </tr>\n",
       "    <tr>\n",
       "      <th>4100</th>\n",
       "      <td>2025-05-25</td>\n",
       "      <td>Parque de la Ciudad, Buenos Aires, Argentina</td>\n",
       "      <td>El Farolito</td>\n",
       "      <td>3er Arco</td>\n",
       "      <td>#ead936</td>\n",
       "    </tr>\n",
       "    <tr>\n",
       "      <th>4101</th>\n",
       "      <td>2025-05-25</td>\n",
       "      <td>Parque de la Ciudad, Buenos Aires, Argentina</td>\n",
       "      <td>El Balneario De Los Doctores Crotos</td>\n",
       "      <td>Azul</td>\n",
       "      <td>#0047a5</td>\n",
       "    </tr>\n",
       "    <tr>\n",
       "      <th>4102</th>\n",
       "      <td>2025-05-25</td>\n",
       "      <td>Parque de la Ciudad, Buenos Aires, Argentina</td>\n",
       "      <td>Cruel</td>\n",
       "      <td>Chac Tu Chac</td>\n",
       "      <td>#1e2830</td>\n",
       "    </tr>\n",
       "    <tr>\n",
       "      <th>4103</th>\n",
       "      <td>2025-05-25</td>\n",
       "      <td>Parque de la Ciudad, Buenos Aires, Argentina</td>\n",
       "      <td>Finale</td>\n",
       "      <td>Azul</td>\n",
       "      <td>#0047a5</td>\n",
       "    </tr>\n",
       "    <tr>\n",
       "      <th>4104</th>\n",
       "      <td>2025-05-25</td>\n",
       "      <td>Parque de la Ciudad, Buenos Aires, Argentina</td>\n",
       "      <td>Himno Nacional Argentino</td>\n",
       "      <td>Ineditos</td>\n",
       "      <td>#d57f5c</td>\n",
       "    </tr>\n",
       "  </tbody>\n",
       "</table>\n",
       "<p>4105 rows × 5 columns</p>\n",
       "</div>"
      ],
      "text/plain": [
       "           fecha                                         lugar  \\\n",
       "0     1991-09-21            Boa Vista, Buenos Aires, Argentina   \n",
       "1     1991-09-21            Boa Vista, Buenos Aires, Argentina   \n",
       "2     1991-09-21            Boa Vista, Buenos Aires, Argentina   \n",
       "3     1991-09-21            Boa Vista, Buenos Aires, Argentina   \n",
       "4     1991-09-21            Boa Vista, Buenos Aires, Argentina   \n",
       "...          ...                                           ...   \n",
       "4100  2025-05-25  Parque de la Ciudad, Buenos Aires, Argentina   \n",
       "4101  2025-05-25  Parque de la Ciudad, Buenos Aires, Argentina   \n",
       "4102  2025-05-25  Parque de la Ciudad, Buenos Aires, Argentina   \n",
       "4103  2025-05-25  Parque de la Ciudad, Buenos Aires, Argentina   \n",
       "4104  2025-05-25  Parque de la Ciudad, Buenos Aires, Argentina   \n",
       "\n",
       "                                  canción         álbum    color  \n",
       "0                  Blues Del Gato Sarnoso      Ineditos  #d57f5c  \n",
       "1                             Los Mocosos  Chac Tu Chac  #1e2830  \n",
       "2                    Blues Del Traje Gris  Chac Tu Chac  #1e2830  \n",
       "3                            Chac Tu Chac  Chac Tu Chac  #1e2830  \n",
       "4                               Babilonia      Ay Ay Ay  #c41616  \n",
       "...                                   ...           ...      ...  \n",
       "4100                          El Farolito      3er Arco  #ead936  \n",
       "4101  El Balneario De Los Doctores Crotos          Azul  #0047a5  \n",
       "4102                                Cruel  Chac Tu Chac  #1e2830  \n",
       "4103                               Finale          Azul  #0047a5  \n",
       "4104             Himno Nacional Argentino      Ineditos  #d57f5c  \n",
       "\n",
       "[4105 rows x 5 columns]"
      ]
     },
     "execution_count": 5,
     "metadata": {},
     "output_type": "execute_result"
    }
   ],
   "source": [
    "\n",
    "df_popularidad = pd.read_excel(r'C:\\Users\\Yo\\Desktop\\setlist\\SetlistFM-Setlist-Evolution\\canciones_popularidad.xlsx')\n",
    "\n",
    "\n",
    "# Ordenar los setlists por fecha (usando year, month, day)\n",
    "setlists_data.sort(key=lambda s: date(s[\"year\"], s[\"month\"], s[\"day\"]))\n",
    "\n",
    "# Procesar cada setlist y contar acumulativamente\n",
    "records = []\n",
    "cumulative_counts = {}\n",
    "\n",
    "for setlist in setlists_data:\n",
    "    # Crear fecha en formato ISO\n",
    "    current_date = date(setlist[\"year\"], setlist[\"month\"], setlist[\"day\"]).isoformat()\n",
    "    place = setlist[\"venue\"]\n",
    "    # Procesar la lista de canciones, separando por \"/\" si es necesario\n",
    "    canciones_raw = setlist.get(\"songs\", [])\n",
    "    canciones = []\n",
    "    for item in canciones_raw:\n",
    "        for part in item.split('/'):\n",
    "            if part.strip():\n",
    "                canciones.append(part.strip())\n",
    "    \n",
    "    # Actualizar los conteos acumulados\n",
    "    for song in canciones:\n",
    "        norm_song = normalize(song)\n",
    "        cumulative_counts[norm_song] = cumulative_counts.get(norm_song, 0) + 1\n",
    "    # Registrar el estado acumulado hasta la fecha actual\n",
    "    for song, count in cumulative_counts.items():\n",
    "        album = song_to_album.get(song, \"Ineditos\")\n",
    "        color = song_to_color.get(song, \"#000000\")\n",
    "        records.append({\n",
    "            \"fecha\": current_date,\n",
    "            \"lugar\": place,\n",
    "            \"canción\": song.title(),  # Capitalizamos para visualización\n",
    "            \"álbum\": album,\n",
    "            \"color\": color,\n",
    "            \"veces_tocada\": count\n",
    "        })\n",
    "\n",
    "# Crear DataFrame y agrupar para quedarnos con el último conteo de cada fecha\n",
    "df_vuelta_total = pd.DataFrame(records)\n",
    "\n",
    "\n",
    "df_vuelta_total[df_vuelta_total['fecha'] == '2025-05-25'].head()\n",
    "\n",
    "# Asume que song_to_album y song_to_color ya están definidos\n",
    "\n",
    "\n",
    "all_records = []\n",
    "\n",
    "for setlist in setlists_data:\n",
    "    current_date = date(setlist[\"year\"], setlist[\"month\"], setlist[\"day\"]).isoformat()\n",
    "    place = setlist[\"venue\"]\n",
    "    canciones_raw = setlist.get(\"songs\", [])\n",
    "    canciones = []\n",
    "    for item in canciones_raw:\n",
    "        for part in item.split('/'):\n",
    "            if part.strip():\n",
    "                canciones.append(part.strip())\n",
    "    for song in canciones:\n",
    "        norm_song = normalize(song)\n",
    "        album = song_to_album.get(norm_song, \"Ineditos\")\n",
    "        color = song_to_color.get(norm_song, \"#000000\")\n",
    "        all_records.append({\n",
    "            \"fecha\": current_date,\n",
    "            \"lugar\": place,\n",
    "            \"canción\": song.title(),\n",
    "            \"álbum\": album,\n",
    "            \"color\": color  # Solo cuenta 1 para este concierto\n",
    "        })\n",
    "\n",
    "# Super DataFrame con todas las fechas y canciones (sin acumulativo)\n",
    "df_super = pd.DataFrame(all_records)\n",
    "\n",
    "df_super"
   ]
  },
  {
   "cell_type": "code",
   "execution_count": 6,
   "id": "ad25e56d",
   "metadata": {},
   "outputs": [],
   "source": [
    "df_super['cancion_norm'] = df_super['canción'].apply(normalize)\n",
    "df_popularidad['cancion_norm'] = df_popularidad['canción'].apply(normalize)"
   ]
  },
  {
   "cell_type": "code",
   "execution_count": 7,
   "id": "ea8e6c34",
   "metadata": {},
   "outputs": [
    {
     "data": {
      "text/html": [
       "<div>\n",
       "<style scoped>\n",
       "    .dataframe tbody tr th:only-of-type {\n",
       "        vertical-align: middle;\n",
       "    }\n",
       "\n",
       "    .dataframe tbody tr th {\n",
       "        vertical-align: top;\n",
       "    }\n",
       "\n",
       "    .dataframe thead th {\n",
       "        text-align: right;\n",
       "    }\n",
       "</style>\n",
       "<table border=\"1\" class=\"dataframe\">\n",
       "  <thead>\n",
       "    <tr style=\"text-align: right;\">\n",
       "      <th></th>\n",
       "      <th>fecha</th>\n",
       "      <th>lugar</th>\n",
       "      <th>canción</th>\n",
       "      <th>álbum</th>\n",
       "      <th>color</th>\n",
       "      <th>cancion_norm</th>\n",
       "      <th>indice_popularidad</th>\n",
       "      <th>indice_popularidad_norm</th>\n",
       "    </tr>\n",
       "  </thead>\n",
       "  <tbody>\n",
       "    <tr>\n",
       "      <th>0</th>\n",
       "      <td>1991-09-21</td>\n",
       "      <td>Boa Vista, Buenos Aires, Argentina</td>\n",
       "      <td>Blues Del Gato Sarnoso</td>\n",
       "      <td>Ineditos</td>\n",
       "      <td>#d57f5c</td>\n",
       "      <td>blues del gato sarnoso</td>\n",
       "      <td>-0.787491</td>\n",
       "      <td>0.061883</td>\n",
       "    </tr>\n",
       "    <tr>\n",
       "      <th>1</th>\n",
       "      <td>1991-09-21</td>\n",
       "      <td>Boa Vista, Buenos Aires, Argentina</td>\n",
       "      <td>Los Mocosos</td>\n",
       "      <td>Chac Tu Chac</td>\n",
       "      <td>#1e2830</td>\n",
       "      <td>los mocosos</td>\n",
       "      <td>-0.108193</td>\n",
       "      <td>0.235819</td>\n",
       "    </tr>\n",
       "    <tr>\n",
       "      <th>2</th>\n",
       "      <td>1991-09-21</td>\n",
       "      <td>Boa Vista, Buenos Aires, Argentina</td>\n",
       "      <td>Blues Del Traje Gris</td>\n",
       "      <td>Chac Tu Chac</td>\n",
       "      <td>#1e2830</td>\n",
       "      <td>blues del traje gris</td>\n",
       "      <td>-0.489090</td>\n",
       "      <td>0.138290</td>\n",
       "    </tr>\n",
       "    <tr>\n",
       "      <th>3</th>\n",
       "      <td>1991-09-21</td>\n",
       "      <td>Boa Vista, Buenos Aires, Argentina</td>\n",
       "      <td>Chac Tu Chac</td>\n",
       "      <td>Chac Tu Chac</td>\n",
       "      <td>#1e2830</td>\n",
       "      <td>chac tu chac</td>\n",
       "      <td>0.019795</td>\n",
       "      <td>0.268590</td>\n",
       "    </tr>\n",
       "    <tr>\n",
       "      <th>4</th>\n",
       "      <td>1991-09-21</td>\n",
       "      <td>Boa Vista, Buenos Aires, Argentina</td>\n",
       "      <td>Babilonia</td>\n",
       "      <td>Ay Ay Ay</td>\n",
       "      <td>#c41616</td>\n",
       "      <td>babilonia</td>\n",
       "      <td>0.204522</td>\n",
       "      <td>0.315890</td>\n",
       "    </tr>\n",
       "    <tr>\n",
       "      <th>...</th>\n",
       "      <td>...</td>\n",
       "      <td>...</td>\n",
       "      <td>...</td>\n",
       "      <td>...</td>\n",
       "      <td>...</td>\n",
       "      <td>...</td>\n",
       "      <td>...</td>\n",
       "      <td>...</td>\n",
       "    </tr>\n",
       "    <tr>\n",
       "      <th>4100</th>\n",
       "      <td>2025-05-25</td>\n",
       "      <td>Parque de la Ciudad, Buenos Aires, Argentina</td>\n",
       "      <td>El Farolito</td>\n",
       "      <td>3er Arco</td>\n",
       "      <td>#ead936</td>\n",
       "      <td>el farolito</td>\n",
       "      <td>2.600115</td>\n",
       "      <td>0.929285</td>\n",
       "    </tr>\n",
       "    <tr>\n",
       "      <th>4101</th>\n",
       "      <td>2025-05-25</td>\n",
       "      <td>Parque de la Ciudad, Buenos Aires, Argentina</td>\n",
       "      <td>El Balneario De Los Doctores Crotos</td>\n",
       "      <td>Azul</td>\n",
       "      <td>#0047a5</td>\n",
       "      <td>el balneario de los doctores crotos</td>\n",
       "      <td>0.658090</td>\n",
       "      <td>0.432027</td>\n",
       "    </tr>\n",
       "    <tr>\n",
       "      <th>4102</th>\n",
       "      <td>2025-05-25</td>\n",
       "      <td>Parque de la Ciudad, Buenos Aires, Argentina</td>\n",
       "      <td>Cruel</td>\n",
       "      <td>Chac Tu Chac</td>\n",
       "      <td>#1e2830</td>\n",
       "      <td>cruel</td>\n",
       "      <td>0.159382</td>\n",
       "      <td>0.304332</td>\n",
       "    </tr>\n",
       "    <tr>\n",
       "      <th>4103</th>\n",
       "      <td>2025-05-25</td>\n",
       "      <td>Parque de la Ciudad, Buenos Aires, Argentina</td>\n",
       "      <td>Finale</td>\n",
       "      <td>Azul</td>\n",
       "      <td>#0047a5</td>\n",
       "      <td>finale</td>\n",
       "      <td>0.146156</td>\n",
       "      <td>0.300945</td>\n",
       "    </tr>\n",
       "    <tr>\n",
       "      <th>4104</th>\n",
       "      <td>2025-05-25</td>\n",
       "      <td>Parque de la Ciudad, Buenos Aires, Argentina</td>\n",
       "      <td>Himno Nacional Argentino</td>\n",
       "      <td>Ineditos</td>\n",
       "      <td>#d57f5c</td>\n",
       "      <td>himno nacional argentino</td>\n",
       "      <td>-0.328465</td>\n",
       "      <td>0.179418</td>\n",
       "    </tr>\n",
       "  </tbody>\n",
       "</table>\n",
       "<p>4105 rows × 8 columns</p>\n",
       "</div>"
      ],
      "text/plain": [
       "           fecha                                         lugar  \\\n",
       "0     1991-09-21            Boa Vista, Buenos Aires, Argentina   \n",
       "1     1991-09-21            Boa Vista, Buenos Aires, Argentina   \n",
       "2     1991-09-21            Boa Vista, Buenos Aires, Argentina   \n",
       "3     1991-09-21            Boa Vista, Buenos Aires, Argentina   \n",
       "4     1991-09-21            Boa Vista, Buenos Aires, Argentina   \n",
       "...          ...                                           ...   \n",
       "4100  2025-05-25  Parque de la Ciudad, Buenos Aires, Argentina   \n",
       "4101  2025-05-25  Parque de la Ciudad, Buenos Aires, Argentina   \n",
       "4102  2025-05-25  Parque de la Ciudad, Buenos Aires, Argentina   \n",
       "4103  2025-05-25  Parque de la Ciudad, Buenos Aires, Argentina   \n",
       "4104  2025-05-25  Parque de la Ciudad, Buenos Aires, Argentina   \n",
       "\n",
       "                                  canción         álbum    color  \\\n",
       "0                  Blues Del Gato Sarnoso      Ineditos  #d57f5c   \n",
       "1                             Los Mocosos  Chac Tu Chac  #1e2830   \n",
       "2                    Blues Del Traje Gris  Chac Tu Chac  #1e2830   \n",
       "3                            Chac Tu Chac  Chac Tu Chac  #1e2830   \n",
       "4                               Babilonia      Ay Ay Ay  #c41616   \n",
       "...                                   ...           ...      ...   \n",
       "4100                          El Farolito      3er Arco  #ead936   \n",
       "4101  El Balneario De Los Doctores Crotos          Azul  #0047a5   \n",
       "4102                                Cruel  Chac Tu Chac  #1e2830   \n",
       "4103                               Finale          Azul  #0047a5   \n",
       "4104             Himno Nacional Argentino      Ineditos  #d57f5c   \n",
       "\n",
       "                             cancion_norm  indice_popularidad  \\\n",
       "0                  blues del gato sarnoso           -0.787491   \n",
       "1                             los mocosos           -0.108193   \n",
       "2                    blues del traje gris           -0.489090   \n",
       "3                            chac tu chac            0.019795   \n",
       "4                               babilonia            0.204522   \n",
       "...                                   ...                 ...   \n",
       "4100                          el farolito            2.600115   \n",
       "4101  el balneario de los doctores crotos            0.658090   \n",
       "4102                                cruel            0.159382   \n",
       "4103                               finale            0.146156   \n",
       "4104             himno nacional argentino           -0.328465   \n",
       "\n",
       "      indice_popularidad_norm  \n",
       "0                    0.061883  \n",
       "1                    0.235819  \n",
       "2                    0.138290  \n",
       "3                    0.268590  \n",
       "4                    0.315890  \n",
       "...                       ...  \n",
       "4100                 0.929285  \n",
       "4101                 0.432027  \n",
       "4102                 0.304332  \n",
       "4103                 0.300945  \n",
       "4104                 0.179418  \n",
       "\n",
       "[4105 rows x 8 columns]"
      ]
     },
     "execution_count": 7,
     "metadata": {},
     "output_type": "execute_result"
    }
   ],
   "source": [
    "\n",
    "# 2. Une la popularidad a cada canción tocada en cada concierto\n",
    "df_super = df_super.merge(\n",
    "    df_popularidad[['cancion_norm', 'indice_popularidad', 'indice_popularidad_norm']],\n",
    "    on='cancion_norm',\n",
    "    how='left'\n",
    ")\n",
    "\n",
    "df_super"
   ]
  },
  {
   "cell_type": "code",
   "execution_count": 8,
   "id": "4b0704ed",
   "metadata": {},
   "outputs": [
    {
     "name": "stdout",
     "output_type": "stream",
     "text": [
      "Recitales ordenados de mayor a menor popularidad en promedio:\n",
      "          fecha  indice_popularidad_norm\n",
      "138  2008-05-01                 0.885572\n",
      "91   2004-10-10                 0.793305\n",
      "160  2009-03-26                 0.655949\n",
      "113  2007-05-06                 0.596631\n",
      "145  2008-06-14                 0.573115\n",
      "..          ...                      ...\n",
      "5    1994-08-06                 0.284987\n",
      "3    1993-07-09                 0.229025\n",
      "2    1992-11-14                 0.224915\n",
      "1    1991-11-09                 0.213641\n",
      "0    1991-09-21                 0.195510\n",
      "\n",
      "[178 rows x 2 columns]\n"
     ]
    }
   ],
   "source": [
    "# 3. Calcula el promedio de popularidad por concierto (por fecha)\n",
    "df_conciertos = df_super.groupby('fecha')['indice_popularidad_norm'].mean().reset_index()\n",
    "df_conciertos = df_conciertos.sort_values('indice_popularidad_norm', ascending=False)\n",
    "\n",
    "\n",
    "# 4. Ahora puedes ver los conciertos más \"mainstream\" y más \"alternativos\"\n",
    "print(\"Recitales ordenados de mayor a menor popularidad en promedio:\")\n",
    "print(df_conciertos.sort_values('indice_popularidad_norm', ascending=False))"
   ]
  },
  {
   "cell_type": "code",
   "execution_count": 9,
   "id": "ef4f2f25",
   "metadata": {},
   "outputs": [
    {
     "data": {
      "text/plain": [
       "0.3058366526768369"
      ]
     },
     "execution_count": 9,
     "metadata": {},
     "output_type": "execute_result"
    }
   ],
   "source": [
    "# Filtrar fechas donde se hayan tocado más de 10 temas\n",
    "fechas_mas_10 = df_super['fecha'].value_counts()\n",
    "fechas_validas = fechas_mas_10[fechas_mas_10 > 15].index\n",
    "df_super = df_super[df_super['fecha'].isin(fechas_validas)]\n",
    "velez = df_super[df_super['fecha'] == '2004-05-22']\n",
    "velez['indice_popularidad_norm'].median()"
   ]
  },
  {
   "cell_type": "code",
   "execution_count": 10,
   "id": "5df28001",
   "metadata": {},
   "outputs": [
    {
     "name": "stdout",
     "output_type": "stream",
     "text": [
      "Recitales ordenados de mayor a menor popularidad en promedio:\n",
      "          fecha                                              lugar  \\\n",
      "108  2007-11-17  Estadio Abierto del Parque de Mayo, San Juan, ...   \n",
      "131  2008-11-15  Anfiteatro Mario del Tránsito Cocomarola, Corr...   \n",
      "120  2008-05-02              Sala Assaig, Palma de Mallorca, Spain   \n",
      "133  2008-11-22  Monumento al Obrero Petrolero, Caleta Olivia, ...   \n",
      "112  2007-12-11               Estadio Ruca Che, Neuquén, Argentina   \n",
      "..          ...                                                ...   \n",
      "88   2006-04-26         Estadio Luna Park, Buenos Aires, Argentina   \n",
      "34   2000-07-16  Estadio Obras Sanitarias, Buenos Aires, Argentina   \n",
      "83   2005-10-01                 Estadio Unión, Santa Fe, Argentina   \n",
      "85   2005-12-22      Estadio Boca Juniors, Buenos Aires, Argentina   \n",
      "72   2004-05-22   Estadio Vélez Sarsfield, Buenos Aires, Argentina   \n",
      "\n",
      "     indice_popularidad_norm  \n",
      "108                 0.562223  \n",
      "131                 0.558008  \n",
      "120                 0.550606  \n",
      "133                 0.547218  \n",
      "112                 0.539150  \n",
      "..                       ...  \n",
      "88                  0.329469  \n",
      "34                  0.327725  \n",
      "83                  0.322628  \n",
      "85                  0.316421  \n",
      "72                  0.313943  \n",
      "\n",
      "[126 rows x 3 columns]\n"
     ]
    }
   ],
   "source": [
    "\n",
    "# 3. Calcula el promedio de popularidad por concierto (por fecha)\n",
    "df_conciertos = df_super.groupby(['fecha', 'lugar'])['indice_popularidad_norm'].mean().reset_index()\n",
    "df_conciertos = df_conciertos.sort_values('indice_popularidad_norm', ascending=False)\n",
    "df_conciertos = df_conciertos[df_conciertos['fecha'] > '2000-06-10']\n",
    "df_conciertos = df_conciertos.sort_values(by= 'indice_popularidad_norm', ascending= False)\n",
    "# 4. Ahora puedes ver los conciertos más \"mainstream\" y más \"alternativos\"\n",
    "print(\"Recitales ordenados de mayor a menor popularidad en promedio:\")\n",
    "print(df_conciertos)"
   ]
  },
  {
   "cell_type": "code",
   "execution_count": 11,
   "id": "60b1a5cb",
   "metadata": {},
   "outputs": [],
   "source": [
    "df_conciertos.to_excel('recitales_ordenados_por_popularidad.xlsx', index = False)"
   ]
  },
  {
   "cell_type": "code",
   "execution_count": 12,
   "id": "18ec5e3d",
   "metadata": {},
   "outputs": [
    {
     "data": {
      "text/html": [
       "<div>\n",
       "<style scoped>\n",
       "    .dataframe tbody tr th:only-of-type {\n",
       "        vertical-align: middle;\n",
       "    }\n",
       "\n",
       "    .dataframe tbody tr th {\n",
       "        vertical-align: top;\n",
       "    }\n",
       "\n",
       "    .dataframe thead th {\n",
       "        text-align: right;\n",
       "    }\n",
       "</style>\n",
       "<table border=\"1\" class=\"dataframe\">\n",
       "  <thead>\n",
       "    <tr style=\"text-align: right;\">\n",
       "      <th></th>\n",
       "      <th>fecha</th>\n",
       "      <th>lugar</th>\n",
       "      <th>indice_popularidad_norm</th>\n",
       "    </tr>\n",
       "  </thead>\n",
       "  <tbody>\n",
       "    <tr>\n",
       "      <th>70</th>\n",
       "      <td>2004-01-30</td>\n",
       "      <td>Patinódromo Municipal, Mar del Plata, Argentina</td>\n",
       "      <td>0.373043</td>\n",
       "    </tr>\n",
       "    <tr>\n",
       "      <th>27</th>\n",
       "      <td>1999-12-18</td>\n",
       "      <td>Estadio Atlanta, Buenos Aires, Argentina</td>\n",
       "      <td>0.372201</td>\n",
       "    </tr>\n",
       "    <tr>\n",
       "      <th>93</th>\n",
       "      <td>2006-08-25</td>\n",
       "      <td>Estadio Luna Park, Buenos Aires, Argentina</td>\n",
       "      <td>0.371743</td>\n",
       "    </tr>\n",
       "    <tr>\n",
       "      <th>26</th>\n",
       "      <td>1999-10-09</td>\n",
       "      <td>Estadio All Boys, Buenos Aires, Argentina</td>\n",
       "      <td>0.370620</td>\n",
       "    </tr>\n",
       "    <tr>\n",
       "      <th>154</th>\n",
       "      <td>2025-05-24</td>\n",
       "      <td>Parque de la Ciudad, Buenos Aires, Argentina</td>\n",
       "      <td>0.369988</td>\n",
       "    </tr>\n",
       "    <tr>\n",
       "      <th>86</th>\n",
       "      <td>2005-12-23</td>\n",
       "      <td>Estadio Boca Juniors, Buenos Aires, Argentina</td>\n",
       "      <td>0.369546</td>\n",
       "    </tr>\n",
       "    <tr>\n",
       "      <th>90</th>\n",
       "      <td>2006-04-29</td>\n",
       "      <td>Estadio Luna Park, Buenos Aires, Argentina</td>\n",
       "      <td>0.369146</td>\n",
       "    </tr>\n",
       "    <tr>\n",
       "      <th>92</th>\n",
       "      <td>2006-08-24</td>\n",
       "      <td>Estadio Luna Park, Buenos Aires, Argentina</td>\n",
       "      <td>0.368913</td>\n",
       "    </tr>\n",
       "    <tr>\n",
       "      <th>24</th>\n",
       "      <td>1999-05-09</td>\n",
       "      <td>Estadio Obras Sanitarias, Buenos Aires, Argentina</td>\n",
       "      <td>0.368571</td>\n",
       "    </tr>\n",
       "    <tr>\n",
       "      <th>22</th>\n",
       "      <td>1999-05-07</td>\n",
       "      <td>Estadio Obras Sanitarias, Buenos Aires, Argentina</td>\n",
       "      <td>0.367862</td>\n",
       "    </tr>\n",
       "    <tr>\n",
       "      <th>17</th>\n",
       "      <td>1997-07-19</td>\n",
       "      <td>Microestadio Racing Club, Avellaneda, Argentina</td>\n",
       "      <td>0.367850</td>\n",
       "    </tr>\n",
       "    <tr>\n",
       "      <th>23</th>\n",
       "      <td>1999-05-08</td>\n",
       "      <td>Estadio Obras Sanitarias, Buenos Aires, Argentina</td>\n",
       "      <td>0.362630</td>\n",
       "    </tr>\n",
       "    <tr>\n",
       "      <th>21</th>\n",
       "      <td>1999-01-23</td>\n",
       "      <td>Autocine Villa Gesell, Villa Gesell, Argentina</td>\n",
       "      <td>0.361975</td>\n",
       "    </tr>\n",
       "    <tr>\n",
       "      <th>33</th>\n",
       "      <td>2000-07-15</td>\n",
       "      <td>Estadio Obras Sanitarias, Buenos Aires, Argentina</td>\n",
       "      <td>0.359820</td>\n",
       "    </tr>\n",
       "    <tr>\n",
       "      <th>63</th>\n",
       "      <td>2003-05-14</td>\n",
       "      <td>Estadio Luna Park, Buenos Aires, Argentina</td>\n",
       "      <td>0.359331</td>\n",
       "    </tr>\n",
       "    <tr>\n",
       "      <th>61</th>\n",
       "      <td>2003-01-24</td>\n",
       "      <td>Patinódromo Municipal, Mar del Plata, Argentina</td>\n",
       "      <td>0.358699</td>\n",
       "    </tr>\n",
       "    <tr>\n",
       "      <th>16</th>\n",
       "      <td>1997-07-18</td>\n",
       "      <td>Microestadio Racing Club, Avellaneda, Argentina</td>\n",
       "      <td>0.358387</td>\n",
       "    </tr>\n",
       "    <tr>\n",
       "      <th>18</th>\n",
       "      <td>1998-05-17</td>\n",
       "      <td>Parque Sarmiento, Buenos Aires, Argentina</td>\n",
       "      <td>0.354167</td>\n",
       "    </tr>\n",
       "    <tr>\n",
       "      <th>37</th>\n",
       "      <td>2001-01-13</td>\n",
       "      <td>Autocine Villa Gesell, Villa Gesell, Argentina</td>\n",
       "      <td>0.354079</td>\n",
       "    </tr>\n",
       "    <tr>\n",
       "      <th>31</th>\n",
       "      <td>2000-07-07</td>\n",
       "      <td>Estadio Obras Sanitarias, Buenos Aires, Argentina</td>\n",
       "      <td>0.351288</td>\n",
       "    </tr>\n",
       "    <tr>\n",
       "      <th>88</th>\n",
       "      <td>2006-04-26</td>\n",
       "      <td>Estadio Luna Park, Buenos Aires, Argentina</td>\n",
       "      <td>0.349983</td>\n",
       "    </tr>\n",
       "    <tr>\n",
       "      <th>84</th>\n",
       "      <td>2005-10-07</td>\n",
       "      <td>Obras Sanitarias Outdoor, Buenos Aires, Argentina</td>\n",
       "      <td>0.349472</td>\n",
       "    </tr>\n",
       "    <tr>\n",
       "      <th>34</th>\n",
       "      <td>2000-07-16</td>\n",
       "      <td>Estadio Obras Sanitarias, Buenos Aires, Argentina</td>\n",
       "      <td>0.343886</td>\n",
       "    </tr>\n",
       "    <tr>\n",
       "      <th>19</th>\n",
       "      <td>1998-08-22</td>\n",
       "      <td>Polideportivo Club de Gimnasia y Esgrima La Pl...</td>\n",
       "      <td>0.336848</td>\n",
       "    </tr>\n",
       "    <tr>\n",
       "      <th>85</th>\n",
       "      <td>2005-12-22</td>\n",
       "      <td>Estadio Boca Juniors, Buenos Aires, Argentina</td>\n",
       "      <td>0.332697</td>\n",
       "    </tr>\n",
       "    <tr>\n",
       "      <th>72</th>\n",
       "      <td>2004-05-22</td>\n",
       "      <td>Estadio Vélez Sarsfield, Buenos Aires, Argentina</td>\n",
       "      <td>0.327521</td>\n",
       "    </tr>\n",
       "    <tr>\n",
       "      <th>83</th>\n",
       "      <td>2005-10-01</td>\n",
       "      <td>Estadio Unión, Santa Fe, Argentina</td>\n",
       "      <td>0.322628</td>\n",
       "    </tr>\n",
       "  </tbody>\n",
       "</table>\n",
       "</div>"
      ],
      "text/plain": [
       "          fecha                                              lugar  \\\n",
       "70   2004-01-30    Patinódromo Municipal, Mar del Plata, Argentina   \n",
       "27   1999-12-18           Estadio Atlanta, Buenos Aires, Argentina   \n",
       "93   2006-08-25         Estadio Luna Park, Buenos Aires, Argentina   \n",
       "26   1999-10-09          Estadio All Boys, Buenos Aires, Argentina   \n",
       "154  2025-05-24       Parque de la Ciudad, Buenos Aires, Argentina   \n",
       "86   2005-12-23      Estadio Boca Juniors, Buenos Aires, Argentina   \n",
       "90   2006-04-29         Estadio Luna Park, Buenos Aires, Argentina   \n",
       "92   2006-08-24         Estadio Luna Park, Buenos Aires, Argentina   \n",
       "24   1999-05-09  Estadio Obras Sanitarias, Buenos Aires, Argentina   \n",
       "22   1999-05-07  Estadio Obras Sanitarias, Buenos Aires, Argentina   \n",
       "17   1997-07-19    Microestadio Racing Club, Avellaneda, Argentina   \n",
       "23   1999-05-08  Estadio Obras Sanitarias, Buenos Aires, Argentina   \n",
       "21   1999-01-23     Autocine Villa Gesell, Villa Gesell, Argentina   \n",
       "33   2000-07-15  Estadio Obras Sanitarias, Buenos Aires, Argentina   \n",
       "63   2003-05-14         Estadio Luna Park, Buenos Aires, Argentina   \n",
       "61   2003-01-24    Patinódromo Municipal, Mar del Plata, Argentina   \n",
       "16   1997-07-18    Microestadio Racing Club, Avellaneda, Argentina   \n",
       "18   1998-05-17          Parque Sarmiento, Buenos Aires, Argentina   \n",
       "37   2001-01-13     Autocine Villa Gesell, Villa Gesell, Argentina   \n",
       "31   2000-07-07  Estadio Obras Sanitarias, Buenos Aires, Argentina   \n",
       "88   2006-04-26         Estadio Luna Park, Buenos Aires, Argentina   \n",
       "84   2005-10-07  Obras Sanitarias Outdoor, Buenos Aires, Argentina   \n",
       "34   2000-07-16  Estadio Obras Sanitarias, Buenos Aires, Argentina   \n",
       "19   1998-08-22  Polideportivo Club de Gimnasia y Esgrima La Pl...   \n",
       "85   2005-12-22      Estadio Boca Juniors, Buenos Aires, Argentina   \n",
       "72   2004-05-22   Estadio Vélez Sarsfield, Buenos Aires, Argentina   \n",
       "83   2005-10-01                 Estadio Unión, Santa Fe, Argentina   \n",
       "\n",
       "     indice_popularidad_norm  \n",
       "70                  0.373043  \n",
       "27                  0.372201  \n",
       "93                  0.371743  \n",
       "26                  0.370620  \n",
       "154                 0.369988  \n",
       "86                  0.369546  \n",
       "90                  0.369146  \n",
       "92                  0.368913  \n",
       "24                  0.368571  \n",
       "22                  0.367862  \n",
       "17                  0.367850  \n",
       "23                  0.362630  \n",
       "21                  0.361975  \n",
       "33                  0.359820  \n",
       "63                  0.359331  \n",
       "61                  0.358699  \n",
       "16                  0.358387  \n",
       "18                  0.354167  \n",
       "37                  0.354079  \n",
       "31                  0.351288  \n",
       "88                  0.349983  \n",
       "84                  0.349472  \n",
       "34                  0.343886  \n",
       "19                  0.336848  \n",
       "85                  0.332697  \n",
       "72                  0.327521  \n",
       "83                  0.322628  "
      ]
     },
     "execution_count": 12,
     "metadata": {},
     "output_type": "execute_result"
    }
   ],
   "source": [
    "# Filtrar df_super para excluir canciones del álbum \"Ineditos\"\n",
    "df_super_sin_ineditos = df_super[df_super['álbum'] != 'Ineditos']\n",
    "\n",
    "# Calcular el promedio de popularidad por concierto (fecha y lugar) sin inéditos\n",
    "df_conciertos_sin_ineditos = df_super_sin_ineditos.groupby(['fecha', 'lugar'])['indice_popularidad_norm'].mean().reset_index()\n",
    "df_conciertos_sin_ineditos = df_conciertos_sin_ineditos[df_conciertos_sin_ineditos['fecha'] > '1997-02-10']\n",
    "df_conciertos_sin_ineditos.sort_values(by= 'indice_popularidad_norm', ascending= False).tail(27)"
   ]
  },
  {
   "cell_type": "code",
   "execution_count": 13,
   "id": "0d5ea894",
   "metadata": {},
   "outputs": [],
   "source": [
    "df_conciertos_sin_ineditos[['Lugar', 'Localidad', 'País']] = df_conciertos_sin_ineditos['lugar'].str.split(',', expand=True)\n",
    "\n",
    "df_conciertos_sin_ineditos[['Año', 'Mes', 'Día']] = df_conciertos_sin_ineditos['fecha'].str.split('-', expand=True)"
   ]
  },
  {
   "cell_type": "code",
   "execution_count": 14,
   "id": "583df6fe",
   "metadata": {},
   "outputs": [
    {
     "data": {
      "text/html": [
       "<div>\n",
       "<style scoped>\n",
       "    .dataframe tbody tr th:only-of-type {\n",
       "        vertical-align: middle;\n",
       "    }\n",
       "\n",
       "    .dataframe tbody tr th {\n",
       "        vertical-align: top;\n",
       "    }\n",
       "\n",
       "    .dataframe thead th {\n",
       "        text-align: right;\n",
       "    }\n",
       "</style>\n",
       "<table border=\"1\" class=\"dataframe\">\n",
       "  <thead>\n",
       "    <tr style=\"text-align: right;\">\n",
       "      <th></th>\n",
       "      <th>fecha</th>\n",
       "      <th>lugar</th>\n",
       "      <th>indice_popularidad_norm</th>\n",
       "      <th>Lugar</th>\n",
       "      <th>Localidad</th>\n",
       "      <th>País</th>\n",
       "      <th>Año</th>\n",
       "      <th>Mes</th>\n",
       "      <th>Día</th>\n",
       "    </tr>\n",
       "  </thead>\n",
       "  <tbody>\n",
       "    <tr>\n",
       "      <th>15</th>\n",
       "      <td>1997-03-29</td>\n",
       "      <td>Costa Chaval, Concordia, Argentina</td>\n",
       "      <td>0.378780</td>\n",
       "      <td>Costa Chaval</td>\n",
       "      <td>Concordia</td>\n",
       "      <td>Argentina</td>\n",
       "      <td>1997</td>\n",
       "      <td>03</td>\n",
       "      <td>29</td>\n",
       "    </tr>\n",
       "    <tr>\n",
       "      <th>16</th>\n",
       "      <td>1997-07-18</td>\n",
       "      <td>Microestadio Racing Club, Avellaneda, Argentina</td>\n",
       "      <td>0.358387</td>\n",
       "      <td>Microestadio Racing Club</td>\n",
       "      <td>Avellaneda</td>\n",
       "      <td>Argentina</td>\n",
       "      <td>1997</td>\n",
       "      <td>07</td>\n",
       "      <td>18</td>\n",
       "    </tr>\n",
       "    <tr>\n",
       "      <th>17</th>\n",
       "      <td>1997-07-19</td>\n",
       "      <td>Microestadio Racing Club, Avellaneda, Argentina</td>\n",
       "      <td>0.367850</td>\n",
       "      <td>Microestadio Racing Club</td>\n",
       "      <td>Avellaneda</td>\n",
       "      <td>Argentina</td>\n",
       "      <td>1997</td>\n",
       "      <td>07</td>\n",
       "      <td>19</td>\n",
       "    </tr>\n",
       "    <tr>\n",
       "      <th>18</th>\n",
       "      <td>1998-05-17</td>\n",
       "      <td>Parque Sarmiento, Buenos Aires, Argentina</td>\n",
       "      <td>0.354167</td>\n",
       "      <td>Parque Sarmiento</td>\n",
       "      <td>Buenos Aires</td>\n",
       "      <td>Argentina</td>\n",
       "      <td>1998</td>\n",
       "      <td>05</td>\n",
       "      <td>17</td>\n",
       "    </tr>\n",
       "    <tr>\n",
       "      <th>19</th>\n",
       "      <td>1998-08-22</td>\n",
       "      <td>Polideportivo Club de Gimnasia y Esgrima La Pl...</td>\n",
       "      <td>0.336848</td>\n",
       "      <td>Polideportivo Club de Gimnasia y Esgrima La Plata</td>\n",
       "      <td>La Plata</td>\n",
       "      <td>Argentina</td>\n",
       "      <td>1998</td>\n",
       "      <td>08</td>\n",
       "      <td>22</td>\n",
       "    </tr>\n",
       "    <tr>\n",
       "      <th>...</th>\n",
       "      <td>...</td>\n",
       "      <td>...</td>\n",
       "      <td>...</td>\n",
       "      <td>...</td>\n",
       "      <td>...</td>\n",
       "      <td>...</td>\n",
       "      <td>...</td>\n",
       "      <td>...</td>\n",
       "      <td>...</td>\n",
       "    </tr>\n",
       "    <tr>\n",
       "      <th>151</th>\n",
       "      <td>2025-04-26</td>\n",
       "      <td>Hipódromo Parque de La Independencia, Rosario,...</td>\n",
       "      <td>0.466426</td>\n",
       "      <td>Hipódromo Parque de La Independencia</td>\n",
       "      <td>Rosario</td>\n",
       "      <td>Argentina</td>\n",
       "      <td>2025</td>\n",
       "      <td>04</td>\n",
       "      <td>26</td>\n",
       "    </tr>\n",
       "    <tr>\n",
       "      <th>152</th>\n",
       "      <td>2025-05-03</td>\n",
       "      <td>Teatro Griego Frank Romero Day, Mendoza, Argen...</td>\n",
       "      <td>0.474947</td>\n",
       "      <td>Teatro Griego Frank Romero Day</td>\n",
       "      <td>Mendoza</td>\n",
       "      <td>Argentina</td>\n",
       "      <td>2025</td>\n",
       "      <td>05</td>\n",
       "      <td>03</td>\n",
       "    </tr>\n",
       "    <tr>\n",
       "      <th>153</th>\n",
       "      <td>2025-05-10</td>\n",
       "      <td>Playón Mario Alberto Kempes, Córdoba, Argentina</td>\n",
       "      <td>0.486439</td>\n",
       "      <td>Playón Mario Alberto Kempes</td>\n",
       "      <td>Córdoba</td>\n",
       "      <td>Argentina</td>\n",
       "      <td>2025</td>\n",
       "      <td>05</td>\n",
       "      <td>10</td>\n",
       "    </tr>\n",
       "    <tr>\n",
       "      <th>154</th>\n",
       "      <td>2025-05-24</td>\n",
       "      <td>Parque de la Ciudad, Buenos Aires, Argentina</td>\n",
       "      <td>0.369988</td>\n",
       "      <td>Parque de la Ciudad</td>\n",
       "      <td>Buenos Aires</td>\n",
       "      <td>Argentina</td>\n",
       "      <td>2025</td>\n",
       "      <td>05</td>\n",
       "      <td>24</td>\n",
       "    </tr>\n",
       "    <tr>\n",
       "      <th>155</th>\n",
       "      <td>2025-05-25</td>\n",
       "      <td>Parque de la Ciudad, Buenos Aires, Argentina</td>\n",
       "      <td>0.409990</td>\n",
       "      <td>Parque de la Ciudad</td>\n",
       "      <td>Buenos Aires</td>\n",
       "      <td>Argentina</td>\n",
       "      <td>2025</td>\n",
       "      <td>05</td>\n",
       "      <td>25</td>\n",
       "    </tr>\n",
       "  </tbody>\n",
       "</table>\n",
       "<p>141 rows × 9 columns</p>\n",
       "</div>"
      ],
      "text/plain": [
       "          fecha                                              lugar  \\\n",
       "15   1997-03-29                 Costa Chaval, Concordia, Argentina   \n",
       "16   1997-07-18    Microestadio Racing Club, Avellaneda, Argentina   \n",
       "17   1997-07-19    Microestadio Racing Club, Avellaneda, Argentina   \n",
       "18   1998-05-17          Parque Sarmiento, Buenos Aires, Argentina   \n",
       "19   1998-08-22  Polideportivo Club de Gimnasia y Esgrima La Pl...   \n",
       "..          ...                                                ...   \n",
       "151  2025-04-26  Hipódromo Parque de La Independencia, Rosario,...   \n",
       "152  2025-05-03  Teatro Griego Frank Romero Day, Mendoza, Argen...   \n",
       "153  2025-05-10    Playón Mario Alberto Kempes, Córdoba, Argentina   \n",
       "154  2025-05-24       Parque de la Ciudad, Buenos Aires, Argentina   \n",
       "155  2025-05-25       Parque de la Ciudad, Buenos Aires, Argentina   \n",
       "\n",
       "     indice_popularidad_norm  \\\n",
       "15                  0.378780   \n",
       "16                  0.358387   \n",
       "17                  0.367850   \n",
       "18                  0.354167   \n",
       "19                  0.336848   \n",
       "..                       ...   \n",
       "151                 0.466426   \n",
       "152                 0.474947   \n",
       "153                 0.486439   \n",
       "154                 0.369988   \n",
       "155                 0.409990   \n",
       "\n",
       "                                                 Lugar      Localidad  \\\n",
       "15                                        Costa Chaval      Concordia   \n",
       "16                            Microestadio Racing Club     Avellaneda   \n",
       "17                            Microestadio Racing Club     Avellaneda   \n",
       "18                                    Parque Sarmiento   Buenos Aires   \n",
       "19   Polideportivo Club de Gimnasia y Esgrima La Plata       La Plata   \n",
       "..                                                 ...            ...   \n",
       "151               Hipódromo Parque de La Independencia        Rosario   \n",
       "152                     Teatro Griego Frank Romero Day        Mendoza   \n",
       "153                        Playón Mario Alberto Kempes        Córdoba   \n",
       "154                                Parque de la Ciudad   Buenos Aires   \n",
       "155                                Parque de la Ciudad   Buenos Aires   \n",
       "\n",
       "           País   Año Mes Día  \n",
       "15    Argentina  1997  03  29  \n",
       "16    Argentina  1997  07  18  \n",
       "17    Argentina  1997  07  19  \n",
       "18    Argentina  1998  05  17  \n",
       "19    Argentina  1998  08  22  \n",
       "..          ...   ...  ..  ..  \n",
       "151   Argentina  2025  04  26  \n",
       "152   Argentina  2025  05  03  \n",
       "153   Argentina  2025  05  10  \n",
       "154   Argentina  2025  05  24  \n",
       "155   Argentina  2025  05  25  \n",
       "\n",
       "[141 rows x 9 columns]"
      ]
     },
     "execution_count": 14,
     "metadata": {},
     "output_type": "execute_result"
    }
   ],
   "source": [
    "df_conciertos_sin_ineditos"
   ]
  },
  {
   "cell_type": "code",
   "execution_count": 15,
   "id": "679c362a",
   "metadata": {},
   "outputs": [
    {
     "data": {
      "text/plain": [
       "array(['Costa Chaval, Concordia, Argentina',\n",
       "       'Microestadio Racing Club, Avellaneda, Argentina',\n",
       "       'Parque Sarmiento, Buenos Aires, Argentina',\n",
       "       'Polideportivo Club de Gimnasia y Esgrima La Plata, La Plata, Argentina',\n",
       "       'Estadio All Boys, Buenos Aires, Argentina',\n",
       "       'Autocine Villa Gesell, Villa Gesell, Argentina',\n",
       "       'Estadio Obras Sanitarias, Buenos Aires, Argentina',\n",
       "       'Estadio Atlanta, Buenos Aires, Argentina',\n",
       "       'Plaza Moreno, La Plata, Argentina',\n",
       "       'Estadio Universidad Tecnológica, Santa Fe, Argentina',\n",
       "       'Estadio General Paz Juniors, Córdoba, Argentina',\n",
       "       'Estadio Polideportivo Islas Malvinas, Mar del Plata, Argentina',\n",
       "       'Plaza Próspero Molina, Cosquín, Argentina',\n",
       "       'El Sitio, Galvez, Argentina',\n",
       "       'Estadio Abierto del Parque de Mayo, San Juan, Argentina',\n",
       "       'Estadio Pacífico, Mendoza, Argentina',\n",
       "       'Coliseo de la Quebrada, La Rioja, Argentina',\n",
       "       'Gimnasio Cubierto ICM, Chascomús, Argentina',\n",
       "       'Acrópolis Megadisco, San Salvador de Jujuy, Argentina',\n",
       "       'Club Bomberos Voluntarios, Bariloche, Argentina',\n",
       "       'Estadio Huracán, Buenos Aires, Argentina',\n",
       "       'Balneario Don Roque, Sauce Viejo, Argentina',\n",
       "       'Anfiteatro del Río Uruguay, Paysandú, Uruguay',\n",
       "       'Pajas Blancas Center, Córdoba, Argentina',\n",
       "       'Estadio Villa Luján, San Miguel de Tucumán, Argentina',\n",
       "       'Estadio Luna Park, Buenos Aires, Argentina',\n",
       "       'Estadio Socio Fundadores, Comodoro Rivadavia, Argentina',\n",
       "       'Estadio Roberto Carminatti, Bahía Blanca, Argentina',\n",
       "       \"Estadio Cubierto Newell's Old Boys, Rosario, Argentina\",\n",
       "       'Sala Assaig, Palma de Mallorca, Spain',\n",
       "       'Patinódromo Municipal, Mar del Plata, Argentina',\n",
       "       'La Vieja Usina, Córdoba, Argentina',\n",
       "       'Estadio River Plate, Buenos Aires, Argentina',\n",
       "       'Estadio Vélez Sarsfield, Buenos Aires, Argentina',\n",
       "       'Orfeo Superdomo, Córdoba, Argentina',\n",
       "       'Estación Jujuy, San Salvador de Jujuy, Argentina',\n",
       "       'Gimnasio Don Bosco, Río Grande, Argentina',\n",
       "       'Club Ingeniero Huergo, Comodoro Rivadavia, Argentina',\n",
       "       'Estadio Delmi, Salta, Argentina',\n",
       "       'Estadio Ferrocarril Oeste, Buenos Aires, Argentina',\n",
       "       'Estadio Ciudad de La Plata, La Plata, Argentina',\n",
       "       'Estadio Unión, Santa Fe, Argentina',\n",
       "       'Obras Sanitarias Outdoor, Buenos Aires, Argentina',\n",
       "       'Estadio Boca Juniors, Buenos Aires, Argentina',\n",
       "       'El Santo Disco, Rodeo del Medio, Argentina',\n",
       "       'Anfiteatro Villa María, Villa María, Argentina',\n",
       "       'Boxing Club, Río Gallegos, Argentina',\n",
       "       'Estadio Cayetano Castro, Trelew, Argentina',\n",
       "       'Club Estudiantes de Olavarría, Olavarría, Argentina',\n",
       "       'Hipódromo Parque de La Independencia, Rosario, Argentina',\n",
       "       'Estadio Juniors, Córdoba, Argentina',\n",
       "       'Estadio Central Córdoba, San Miguel de Tucumán, Argentina',\n",
       "       'Estadio La Tablada, San Salvador de Jujuy, Argentina',\n",
       "       'Corporación del Comercio, Bahía Blanca, Argentina',\n",
       "       'Estadio Ruca Che, Neuquén, Argentina',\n",
       "       'Comuna San Roque, Cosquín, Argentina',\n",
       "       'Willie Dixon, Rosario, Argentina',\n",
       "       'Estadio Chateau Carreras, Córdoba, Argentina',\n",
       "       'Razzmatazz, Barcelona, Spain', 'Alcatraz, Milan, Italy',\n",
       "       'Anfiteatro Mario del Tránsito Cocomarola, Corrientes, Argentina',\n",
       "       'Monumento al Obrero Petrolero, Caleta Olivia, Argentina',\n",
       "       'Aeródromo Santa María de Punilla, Santa Maria de Punilla, Argentina',\n",
       "       'Tecnópolis, Villa Martelli, Argentina',\n",
       "       'Teatro Griego Frank Romero Day, Mendoza, Argentina',\n",
       "       'Playón Mario Alberto Kempes, Córdoba, Argentina',\n",
       "       'Parque de la Ciudad, Buenos Aires, Argentina'], dtype=object)"
      ]
     },
     "execution_count": 15,
     "metadata": {},
     "output_type": "execute_result"
    }
   ],
   "source": [
    "df_conciertos_sin_ineditos['lugar'].unique()"
   ]
  },
  {
   "cell_type": "code",
   "execution_count": 16,
   "id": "c2ba849b",
   "metadata": {},
   "outputs": [],
   "source": [
    "aforos = {\n",
    "    'Costa Chaval, Concordia, Argentina': 1500,\n",
    "    'Microestadio Racing Club, Avellaneda, Argentina': 3500,\n",
    "    'Parque Sarmiento, Buenos Aires, Argentina': 20000,\n",
    "    'Polideportivo Club de Gimnasia y Esgrima La Plata, La Plata, Argentina': 3000,\n",
    "    'Estadio All Boys, Buenos Aires, Argentina': 21000,\n",
    "    'Autocine Villa Gesell, Villa Gesell, Argentina': 5000,\n",
    "    'Estadio Obras Sanitarias, Buenos Aires, Argentina': 4700,\n",
    "    'Estadio Atlanta, Buenos Aires, Argentina': 34000,\n",
    "    'Plaza Moreno, La Plata, Argentina': 20000,\n",
    "    'Estadio Universidad Tecnológica, Santa Fe, Argentina': 5000,\n",
    "    'Estadio General Paz Juniors, Córdoba, Argentina': 11000,\n",
    "    'Estadio Polideportivo Islas Malvinas, Mar del Plata, Argentina': 7500,\n",
    "    'Plaza Próspero Molina, Cosquín, Argentina': 10000,\n",
    "    'El Sitio, Galvez, Argentina': 1000,\n",
    "    'Estadio Abierto del Parque de Mayo, San Juan, Argentina': 8000,\n",
    "    'Estadio Pacífico, Mendoza, Argentina': 5000,\n",
    "    'Coliseo de la Quebrada, La Rioja, Argentina': 7000,\n",
    "    'Gimnasio Cubierto ICM, Chascomús, Argentina': 2000,\n",
    "    'Acrópolis Megadisco, San Salvador de Jujuy, Argentina': 1500,\n",
    "    'Club Bomberos Voluntarios, Bariloche, Argentina': 2000,\n",
    "    'Estadio Huracán, Buenos Aires, Argentina': 48000,\n",
    "    'Balneario Don Roque, Sauce Viejo, Argentina': 3000,\n",
    "    'Anfiteatro del Río Uruguay, Paysandú, Uruguay': 5000,\n",
    "    'Pajas Blancas Center, Córdoba, Argentina': 2000,\n",
    "    'Estadio Villa Luján, San Miguel de Tucumán, Argentina': 5000,\n",
    "    'Estadio Luna Park, Buenos Aires, Argentina': 8000,\n",
    "    'Estadio Socio Fundadores, Comodoro Rivadavia, Argentina': 3500,\n",
    "    'Estadio Roberto Carminatti, Bahía Blanca, Argentina': 18000,\n",
    "    \"Estadio Cubierto Newell's Old Boys, Rosario, Argentina\": 8000,\n",
    "    'Sala Assaig, Palma de Mallorca, Spain': 1000,\n",
    "    'Patinódromo Municipal, Mar del Plata, Argentina': 6000,\n",
    "    'La Vieja Usina, Córdoba, Argentina': 1200,\n",
    "    'Estadio River Plate, Buenos Aires, Argentina': 70000,\n",
    "    'Estadio Vélez Sarsfield, Buenos Aires, Argentina': 50000,\n",
    "    'Orfeo Superdomo, Córdoba, Argentina': 14000,\n",
    "    'Estación Jujuy, San Salvador de Jujuy, Argentina': 2000,\n",
    "    'Gimnasio Don Bosco, Río Grande, Argentina': 1500,\n",
    "    'Club Ingeniero Huergo, Comodoro Rivadavia, Argentina': 2000,\n",
    "    'Estadio Delmi, Salta, Argentina': 10000,\n",
    "    'Estadio Ferrocarril Oeste, Buenos Aires, Argentina': 24000,\n",
    "    'Estadio Ciudad de La Plata, La Plata, Argentina': 53000,\n",
    "    'Estadio Unión, Santa Fe, Argentina': 28000,\n",
    "    'Obras Sanitarias Outdoor, Buenos Aires, Argentina': 8000,\n",
    "    'Estadio Boca Juniors, Buenos Aires, Argentina': 49000,\n",
    "    'El Santo Disco, Rodeo del Medio, Argentina': 1500,\n",
    "    'Anfiteatro Villa María, Villa María, Argentina': 11000,\n",
    "    'Boxing Club, Río Gallegos, Argentina': 2500,\n",
    "    'Estadio Cayetano Castro, Trelew, Argentina': 8000,\n",
    "    'Club Estudiantes de Olavarría, Olavarría, Argentina': 2000,\n",
    "    'Hipódromo Parque de La Independencia, Rosario, Argentina': 30000,\n",
    "    'Estadio Juniors, Córdoba, Argentina': 6000,\n",
    "    'Estadio Central Córdoba, San Miguel de Tucumán, Argentina': 25000,\n",
    "    'Estadio La Tablada, San Salvador de Jujuy, Argentina': 5000,\n",
    "    'Corporación del Comercio, Bahía Blanca, Argentina': 1000,\n",
    "    'Estadio Ruca Che, Neuquén, Argentina': 8500,\n",
    "    'Comuna San Roque, Cosquín, Argentina': 2000,\n",
    "    'Willie Dixon, Rosario, Argentina': 1200,\n",
    "    'Estadio Chateau Carreras, Córdoba, Argentina': 57000,\n",
    "    'Razzmatazz, Barcelona, Spain': 2000,\n",
    "    'Alcatraz, Milan, Italy': 3000,\n",
    "    'Anfiteatro Mario del Tránsito Cocomarola, Corrientes, Argentina': 15000,\n",
    "    'Monumento al Obrero Petrolero, Caleta Olivia, Argentina': 20000,\n",
    "    'Aeródromo Santa María de Punilla, Santa Maria de Punilla, Argentina': 60000,\n",
    "    'Tecnópolis, Villa Martelli, Argentina': 80000,\n",
    "    'Teatro Griego Frank Romero Day, Mendoza, Argentina': 20000,\n",
    "    'Playón Mario Alberto Kempes, Córdoba, Argentina': 30000,\n",
    "    'Parque de la Ciudad, Buenos Aires, Argentina': 50000,\n",
    "}\n",
    "\n",
    "df_conciertos_sin_ineditos['aforo'] = df_conciertos_sin_ineditos['lugar'].map(aforos)\n",
    "    "
   ]
  },
  {
   "cell_type": "code",
   "execution_count": 17,
   "id": "1f525358",
   "metadata": {},
   "outputs": [
    {
     "data": {
      "text/plain": [
       "Zona\n",
       "Buenos Aires             52\n",
       "Interior                 39\n",
       "Interior Buenos Aires    27\n",
       "Interior Sur             10\n",
       "Interior Norte            8\n",
       "Exterior                  5\n",
       "Name: count, dtype: int64"
      ]
     },
     "execution_count": 17,
     "metadata": {},
     "output_type": "execute_result"
    }
   ],
   "source": [
    "# ...existing code...\n",
    "\n",
    "# Definí las zonas según tus criterios\n",
    "bsas = ['Buenos Aires', 'Villa Martelli', 'Avellaneda']\n",
    "interior_bsas = [\n",
    "    'La Plata', 'Villa Gesell' , 'Mar del Plata' , 'Chascomús', 'Bahía Blanca', 'Olavarría']\n",
    "\n",
    "interior = ['Santa Fe', 'Córdoba', 'Cosquín', 'Galvez', 'San Juan',\n",
    "    'Mendoza', 'Sauce Viejo', 'Rosario',\n",
    "    'Rodeo del Medio', 'Villa María',   \n",
    "    'Caleta Olivia', 'Santa Maria de Punilla', 'Concordia']\n",
    "\n",
    "interior_sur = ['Bariloche', 'Río Grande', 'Comodoro Rivadavia','Río Gallegos', 'Trelew', 'Neuquén']\n",
    "interior_norte = ['Corrientes', 'La Rioja', 'San Salvador de Jujuy', 'San Miguel de Tucumán',  'Salta']\n",
    "exterior = ['Paysandú', 'Palma de Mallorca', 'Barcelona', 'Milan']\n",
    "\n",
    "def clasificar_zona(localidad):\n",
    "    localidad = localidad.strip()\n",
    "    if localidad in bsas:\n",
    "        return 'Buenos Aires'\n",
    "    elif localidad in interior_bsas:\n",
    "        return 'Interior Buenos Aires'\n",
    "    elif localidad in interior:\n",
    "        return 'Interior'\n",
    "    elif localidad in interior_sur:\n",
    "        return 'Interior Sur'\n",
    "    elif localidad in interior_norte:\n",
    "        return 'Interior Norte'\n",
    "    elif localidad in exterior:\n",
    "        return 'Exterior'\n",
    "    else:\n",
    "        return 'Otra'\n",
    "    \n",
    "\n",
    "\n",
    "df_conciertos_sin_ineditos['Zona'] = df_conciertos_sin_ineditos['Localidad'].apply(clasificar_zona)\n",
    "df_conciertos_sin_ineditos['Zona'] = df_conciertos_sin_ineditos['Zona'].astype('category')\n",
    "\n",
    "# Ahora la columna 'Zona' es categórica y podés usarla para análisis o gráficos\n",
    "df_conciertos_sin_ineditos['Zona'].value_counts()\n"
   ]
  },
  {
   "cell_type": "code",
   "execution_count": 18,
   "id": "27f978f7",
   "metadata": {},
   "outputs": [
    {
     "data": {
      "text/html": [
       "<div>\n",
       "<style scoped>\n",
       "    .dataframe tbody tr th:only-of-type {\n",
       "        vertical-align: middle;\n",
       "    }\n",
       "\n",
       "    .dataframe tbody tr th {\n",
       "        vertical-align: top;\n",
       "    }\n",
       "\n",
       "    .dataframe thead th {\n",
       "        text-align: right;\n",
       "    }\n",
       "</style>\n",
       "<table border=\"1\" class=\"dataframe\">\n",
       "  <thead>\n",
       "    <tr style=\"text-align: right;\">\n",
       "      <th></th>\n",
       "      <th>indice_popularidad_norm</th>\n",
       "      <th>aforo</th>\n",
       "    </tr>\n",
       "  </thead>\n",
       "  <tbody>\n",
       "    <tr>\n",
       "      <th>indice_popularidad_norm</th>\n",
       "      <td>1.000000</td>\n",
       "      <td>-0.045461</td>\n",
       "    </tr>\n",
       "    <tr>\n",
       "      <th>aforo</th>\n",
       "      <td>-0.045461</td>\n",
       "      <td>1.000000</td>\n",
       "    </tr>\n",
       "  </tbody>\n",
       "</table>\n",
       "</div>"
      ],
      "text/plain": [
       "                         indice_popularidad_norm     aforo\n",
       "indice_popularidad_norm                 1.000000 -0.045461\n",
       "aforo                                  -0.045461  1.000000"
      ]
     },
     "execution_count": 18,
     "metadata": {},
     "output_type": "execute_result"
    }
   ],
   "source": [
    "df_conciertos_sin_ineditos.select_dtypes(include='number').corr()"
   ]
  },
  {
   "cell_type": "code",
   "execution_count": 19,
   "id": "f886938e",
   "metadata": {},
   "outputs": [
    {
     "data": {
      "text/html": [
       "<style>#sk-container-id-1 {\n",
       "  /* Definition of color scheme common for light and dark mode */\n",
       "  --sklearn-color-text: black;\n",
       "  --sklearn-color-line: gray;\n",
       "  /* Definition of color scheme for unfitted estimators */\n",
       "  --sklearn-color-unfitted-level-0: #fff5e6;\n",
       "  --sklearn-color-unfitted-level-1: #f6e4d2;\n",
       "  --sklearn-color-unfitted-level-2: #ffe0b3;\n",
       "  --sklearn-color-unfitted-level-3: chocolate;\n",
       "  /* Definition of color scheme for fitted estimators */\n",
       "  --sklearn-color-fitted-level-0: #f0f8ff;\n",
       "  --sklearn-color-fitted-level-1: #d4ebff;\n",
       "  --sklearn-color-fitted-level-2: #b3dbfd;\n",
       "  --sklearn-color-fitted-level-3: cornflowerblue;\n",
       "\n",
       "  /* Specific color for light theme */\n",
       "  --sklearn-color-text-on-default-background: var(--sg-text-color, var(--theme-code-foreground, var(--jp-content-font-color1, black)));\n",
       "  --sklearn-color-background: var(--sg-background-color, var(--theme-background, var(--jp-layout-color0, white)));\n",
       "  --sklearn-color-border-box: var(--sg-text-color, var(--theme-code-foreground, var(--jp-content-font-color1, black)));\n",
       "  --sklearn-color-icon: #696969;\n",
       "\n",
       "  @media (prefers-color-scheme: dark) {\n",
       "    /* Redefinition of color scheme for dark theme */\n",
       "    --sklearn-color-text-on-default-background: var(--sg-text-color, var(--theme-code-foreground, var(--jp-content-font-color1, white)));\n",
       "    --sklearn-color-background: var(--sg-background-color, var(--theme-background, var(--jp-layout-color0, #111)));\n",
       "    --sklearn-color-border-box: var(--sg-text-color, var(--theme-code-foreground, var(--jp-content-font-color1, white)));\n",
       "    --sklearn-color-icon: #878787;\n",
       "  }\n",
       "}\n",
       "\n",
       "#sk-container-id-1 {\n",
       "  color: var(--sklearn-color-text);\n",
       "}\n",
       "\n",
       "#sk-container-id-1 pre {\n",
       "  padding: 0;\n",
       "}\n",
       "\n",
       "#sk-container-id-1 input.sk-hidden--visually {\n",
       "  border: 0;\n",
       "  clip: rect(1px 1px 1px 1px);\n",
       "  clip: rect(1px, 1px, 1px, 1px);\n",
       "  height: 1px;\n",
       "  margin: -1px;\n",
       "  overflow: hidden;\n",
       "  padding: 0;\n",
       "  position: absolute;\n",
       "  width: 1px;\n",
       "}\n",
       "\n",
       "#sk-container-id-1 div.sk-dashed-wrapped {\n",
       "  border: 1px dashed var(--sklearn-color-line);\n",
       "  margin: 0 0.4em 0.5em 0.4em;\n",
       "  box-sizing: border-box;\n",
       "  padding-bottom: 0.4em;\n",
       "  background-color: var(--sklearn-color-background);\n",
       "}\n",
       "\n",
       "#sk-container-id-1 div.sk-container {\n",
       "  /* jupyter's `normalize.less` sets `[hidden] { display: none; }`\n",
       "     but bootstrap.min.css set `[hidden] { display: none !important; }`\n",
       "     so we also need the `!important` here to be able to override the\n",
       "     default hidden behavior on the sphinx rendered scikit-learn.org.\n",
       "     See: https://github.com/scikit-learn/scikit-learn/issues/21755 */\n",
       "  display: inline-block !important;\n",
       "  position: relative;\n",
       "}\n",
       "\n",
       "#sk-container-id-1 div.sk-text-repr-fallback {\n",
       "  display: none;\n",
       "}\n",
       "\n",
       "div.sk-parallel-item,\n",
       "div.sk-serial,\n",
       "div.sk-item {\n",
       "  /* draw centered vertical line to link estimators */\n",
       "  background-image: linear-gradient(var(--sklearn-color-text-on-default-background), var(--sklearn-color-text-on-default-background));\n",
       "  background-size: 2px 100%;\n",
       "  background-repeat: no-repeat;\n",
       "  background-position: center center;\n",
       "}\n",
       "\n",
       "/* Parallel-specific style estimator block */\n",
       "\n",
       "#sk-container-id-1 div.sk-parallel-item::after {\n",
       "  content: \"\";\n",
       "  width: 100%;\n",
       "  border-bottom: 2px solid var(--sklearn-color-text-on-default-background);\n",
       "  flex-grow: 1;\n",
       "}\n",
       "\n",
       "#sk-container-id-1 div.sk-parallel {\n",
       "  display: flex;\n",
       "  align-items: stretch;\n",
       "  justify-content: center;\n",
       "  background-color: var(--sklearn-color-background);\n",
       "  position: relative;\n",
       "}\n",
       "\n",
       "#sk-container-id-1 div.sk-parallel-item {\n",
       "  display: flex;\n",
       "  flex-direction: column;\n",
       "}\n",
       "\n",
       "#sk-container-id-1 div.sk-parallel-item:first-child::after {\n",
       "  align-self: flex-end;\n",
       "  width: 50%;\n",
       "}\n",
       "\n",
       "#sk-container-id-1 div.sk-parallel-item:last-child::after {\n",
       "  align-self: flex-start;\n",
       "  width: 50%;\n",
       "}\n",
       "\n",
       "#sk-container-id-1 div.sk-parallel-item:only-child::after {\n",
       "  width: 0;\n",
       "}\n",
       "\n",
       "/* Serial-specific style estimator block */\n",
       "\n",
       "#sk-container-id-1 div.sk-serial {\n",
       "  display: flex;\n",
       "  flex-direction: column;\n",
       "  align-items: center;\n",
       "  background-color: var(--sklearn-color-background);\n",
       "  padding-right: 1em;\n",
       "  padding-left: 1em;\n",
       "}\n",
       "\n",
       "\n",
       "/* Toggleable style: style used for estimator/Pipeline/ColumnTransformer box that is\n",
       "clickable and can be expanded/collapsed.\n",
       "- Pipeline and ColumnTransformer use this feature and define the default style\n",
       "- Estimators will overwrite some part of the style using the `sk-estimator` class\n",
       "*/\n",
       "\n",
       "/* Pipeline and ColumnTransformer style (default) */\n",
       "\n",
       "#sk-container-id-1 div.sk-toggleable {\n",
       "  /* Default theme specific background. It is overwritten whether we have a\n",
       "  specific estimator or a Pipeline/ColumnTransformer */\n",
       "  background-color: var(--sklearn-color-background);\n",
       "}\n",
       "\n",
       "/* Toggleable label */\n",
       "#sk-container-id-1 label.sk-toggleable__label {\n",
       "  cursor: pointer;\n",
       "  display: block;\n",
       "  width: 100%;\n",
       "  margin-bottom: 0;\n",
       "  padding: 0.5em;\n",
       "  box-sizing: border-box;\n",
       "  text-align: center;\n",
       "}\n",
       "\n",
       "#sk-container-id-1 label.sk-toggleable__label-arrow:before {\n",
       "  /* Arrow on the left of the label */\n",
       "  content: \"▸\";\n",
       "  float: left;\n",
       "  margin-right: 0.25em;\n",
       "  color: var(--sklearn-color-icon);\n",
       "}\n",
       "\n",
       "#sk-container-id-1 label.sk-toggleable__label-arrow:hover:before {\n",
       "  color: var(--sklearn-color-text);\n",
       "}\n",
       "\n",
       "/* Toggleable content - dropdown */\n",
       "\n",
       "#sk-container-id-1 div.sk-toggleable__content {\n",
       "  max-height: 0;\n",
       "  max-width: 0;\n",
       "  overflow: hidden;\n",
       "  text-align: left;\n",
       "  /* unfitted */\n",
       "  background-color: var(--sklearn-color-unfitted-level-0);\n",
       "}\n",
       "\n",
       "#sk-container-id-1 div.sk-toggleable__content.fitted {\n",
       "  /* fitted */\n",
       "  background-color: var(--sklearn-color-fitted-level-0);\n",
       "}\n",
       "\n",
       "#sk-container-id-1 div.sk-toggleable__content pre {\n",
       "  margin: 0.2em;\n",
       "  border-radius: 0.25em;\n",
       "  color: var(--sklearn-color-text);\n",
       "  /* unfitted */\n",
       "  background-color: var(--sklearn-color-unfitted-level-0);\n",
       "}\n",
       "\n",
       "#sk-container-id-1 div.sk-toggleable__content.fitted pre {\n",
       "  /* unfitted */\n",
       "  background-color: var(--sklearn-color-fitted-level-0);\n",
       "}\n",
       "\n",
       "#sk-container-id-1 input.sk-toggleable__control:checked~div.sk-toggleable__content {\n",
       "  /* Expand drop-down */\n",
       "  max-height: 200px;\n",
       "  max-width: 100%;\n",
       "  overflow: auto;\n",
       "}\n",
       "\n",
       "#sk-container-id-1 input.sk-toggleable__control:checked~label.sk-toggleable__label-arrow:before {\n",
       "  content: \"▾\";\n",
       "}\n",
       "\n",
       "/* Pipeline/ColumnTransformer-specific style */\n",
       "\n",
       "#sk-container-id-1 div.sk-label input.sk-toggleable__control:checked~label.sk-toggleable__label {\n",
       "  color: var(--sklearn-color-text);\n",
       "  background-color: var(--sklearn-color-unfitted-level-2);\n",
       "}\n",
       "\n",
       "#sk-container-id-1 div.sk-label.fitted input.sk-toggleable__control:checked~label.sk-toggleable__label {\n",
       "  background-color: var(--sklearn-color-fitted-level-2);\n",
       "}\n",
       "\n",
       "/* Estimator-specific style */\n",
       "\n",
       "/* Colorize estimator box */\n",
       "#sk-container-id-1 div.sk-estimator input.sk-toggleable__control:checked~label.sk-toggleable__label {\n",
       "  /* unfitted */\n",
       "  background-color: var(--sklearn-color-unfitted-level-2);\n",
       "}\n",
       "\n",
       "#sk-container-id-1 div.sk-estimator.fitted input.sk-toggleable__control:checked~label.sk-toggleable__label {\n",
       "  /* fitted */\n",
       "  background-color: var(--sklearn-color-fitted-level-2);\n",
       "}\n",
       "\n",
       "#sk-container-id-1 div.sk-label label.sk-toggleable__label,\n",
       "#sk-container-id-1 div.sk-label label {\n",
       "  /* The background is the default theme color */\n",
       "  color: var(--sklearn-color-text-on-default-background);\n",
       "}\n",
       "\n",
       "/* On hover, darken the color of the background */\n",
       "#sk-container-id-1 div.sk-label:hover label.sk-toggleable__label {\n",
       "  color: var(--sklearn-color-text);\n",
       "  background-color: var(--sklearn-color-unfitted-level-2);\n",
       "}\n",
       "\n",
       "/* Label box, darken color on hover, fitted */\n",
       "#sk-container-id-1 div.sk-label.fitted:hover label.sk-toggleable__label.fitted {\n",
       "  color: var(--sklearn-color-text);\n",
       "  background-color: var(--sklearn-color-fitted-level-2);\n",
       "}\n",
       "\n",
       "/* Estimator label */\n",
       "\n",
       "#sk-container-id-1 div.sk-label label {\n",
       "  font-family: monospace;\n",
       "  font-weight: bold;\n",
       "  display: inline-block;\n",
       "  line-height: 1.2em;\n",
       "}\n",
       "\n",
       "#sk-container-id-1 div.sk-label-container {\n",
       "  text-align: center;\n",
       "}\n",
       "\n",
       "/* Estimator-specific */\n",
       "#sk-container-id-1 div.sk-estimator {\n",
       "  font-family: monospace;\n",
       "  border: 1px dotted var(--sklearn-color-border-box);\n",
       "  border-radius: 0.25em;\n",
       "  box-sizing: border-box;\n",
       "  margin-bottom: 0.5em;\n",
       "  /* unfitted */\n",
       "  background-color: var(--sklearn-color-unfitted-level-0);\n",
       "}\n",
       "\n",
       "#sk-container-id-1 div.sk-estimator.fitted {\n",
       "  /* fitted */\n",
       "  background-color: var(--sklearn-color-fitted-level-0);\n",
       "}\n",
       "\n",
       "/* on hover */\n",
       "#sk-container-id-1 div.sk-estimator:hover {\n",
       "  /* unfitted */\n",
       "  background-color: var(--sklearn-color-unfitted-level-2);\n",
       "}\n",
       "\n",
       "#sk-container-id-1 div.sk-estimator.fitted:hover {\n",
       "  /* fitted */\n",
       "  background-color: var(--sklearn-color-fitted-level-2);\n",
       "}\n",
       "\n",
       "/* Specification for estimator info (e.g. \"i\" and \"?\") */\n",
       "\n",
       "/* Common style for \"i\" and \"?\" */\n",
       "\n",
       ".sk-estimator-doc-link,\n",
       "a:link.sk-estimator-doc-link,\n",
       "a:visited.sk-estimator-doc-link {\n",
       "  float: right;\n",
       "  font-size: smaller;\n",
       "  line-height: 1em;\n",
       "  font-family: monospace;\n",
       "  background-color: var(--sklearn-color-background);\n",
       "  border-radius: 1em;\n",
       "  height: 1em;\n",
       "  width: 1em;\n",
       "  text-decoration: none !important;\n",
       "  margin-left: 1ex;\n",
       "  /* unfitted */\n",
       "  border: var(--sklearn-color-unfitted-level-1) 1pt solid;\n",
       "  color: var(--sklearn-color-unfitted-level-1);\n",
       "}\n",
       "\n",
       ".sk-estimator-doc-link.fitted,\n",
       "a:link.sk-estimator-doc-link.fitted,\n",
       "a:visited.sk-estimator-doc-link.fitted {\n",
       "  /* fitted */\n",
       "  border: var(--sklearn-color-fitted-level-1) 1pt solid;\n",
       "  color: var(--sklearn-color-fitted-level-1);\n",
       "}\n",
       "\n",
       "/* On hover */\n",
       "div.sk-estimator:hover .sk-estimator-doc-link:hover,\n",
       ".sk-estimator-doc-link:hover,\n",
       "div.sk-label-container:hover .sk-estimator-doc-link:hover,\n",
       ".sk-estimator-doc-link:hover {\n",
       "  /* unfitted */\n",
       "  background-color: var(--sklearn-color-unfitted-level-3);\n",
       "  color: var(--sklearn-color-background);\n",
       "  text-decoration: none;\n",
       "}\n",
       "\n",
       "div.sk-estimator.fitted:hover .sk-estimator-doc-link.fitted:hover,\n",
       ".sk-estimator-doc-link.fitted:hover,\n",
       "div.sk-label-container:hover .sk-estimator-doc-link.fitted:hover,\n",
       ".sk-estimator-doc-link.fitted:hover {\n",
       "  /* fitted */\n",
       "  background-color: var(--sklearn-color-fitted-level-3);\n",
       "  color: var(--sklearn-color-background);\n",
       "  text-decoration: none;\n",
       "}\n",
       "\n",
       "/* Span, style for the box shown on hovering the info icon */\n",
       ".sk-estimator-doc-link span {\n",
       "  display: none;\n",
       "  z-index: 9999;\n",
       "  position: relative;\n",
       "  font-weight: normal;\n",
       "  right: .2ex;\n",
       "  padding: .5ex;\n",
       "  margin: .5ex;\n",
       "  width: min-content;\n",
       "  min-width: 20ex;\n",
       "  max-width: 50ex;\n",
       "  color: var(--sklearn-color-text);\n",
       "  box-shadow: 2pt 2pt 4pt #999;\n",
       "  /* unfitted */\n",
       "  background: var(--sklearn-color-unfitted-level-0);\n",
       "  border: .5pt solid var(--sklearn-color-unfitted-level-3);\n",
       "}\n",
       "\n",
       ".sk-estimator-doc-link.fitted span {\n",
       "  /* fitted */\n",
       "  background: var(--sklearn-color-fitted-level-0);\n",
       "  border: var(--sklearn-color-fitted-level-3);\n",
       "}\n",
       "\n",
       ".sk-estimator-doc-link:hover span {\n",
       "  display: block;\n",
       "}\n",
       "\n",
       "/* \"?\"-specific style due to the `<a>` HTML tag */\n",
       "\n",
       "#sk-container-id-1 a.estimator_doc_link {\n",
       "  float: right;\n",
       "  font-size: 1rem;\n",
       "  line-height: 1em;\n",
       "  font-family: monospace;\n",
       "  background-color: var(--sklearn-color-background);\n",
       "  border-radius: 1rem;\n",
       "  height: 1rem;\n",
       "  width: 1rem;\n",
       "  text-decoration: none;\n",
       "  /* unfitted */\n",
       "  color: var(--sklearn-color-unfitted-level-1);\n",
       "  border: var(--sklearn-color-unfitted-level-1) 1pt solid;\n",
       "}\n",
       "\n",
       "#sk-container-id-1 a.estimator_doc_link.fitted {\n",
       "  /* fitted */\n",
       "  border: var(--sklearn-color-fitted-level-1) 1pt solid;\n",
       "  color: var(--sklearn-color-fitted-level-1);\n",
       "}\n",
       "\n",
       "/* On hover */\n",
       "#sk-container-id-1 a.estimator_doc_link:hover {\n",
       "  /* unfitted */\n",
       "  background-color: var(--sklearn-color-unfitted-level-3);\n",
       "  color: var(--sklearn-color-background);\n",
       "  text-decoration: none;\n",
       "}\n",
       "\n",
       "#sk-container-id-1 a.estimator_doc_link.fitted:hover {\n",
       "  /* fitted */\n",
       "  background-color: var(--sklearn-color-fitted-level-3);\n",
       "}\n",
       "</style><div id=\"sk-container-id-1\" class=\"sk-top-container\"><div class=\"sk-text-repr-fallback\"><pre>Pipeline(steps=[(&#x27;pre&#x27;,\n",
       "                 ColumnTransformer(transformers=[(&#x27;quincena&#x27;,\n",
       "                                                  FunctionTransformer(feature_names_out=&#x27;one-to-one&#x27;,\n",
       "                                                                      func=&lt;function quincena_from_day at 0x0000026B072AFBA0&gt;),\n",
       "                                                  [&#x27;Día&#x27;]),\n",
       "                                                 (&#x27;aforo&#x27;, &#x27;passthrough&#x27;,\n",
       "                                                  [&#x27;aforo&#x27;]),\n",
       "                                                 (&#x27;localidad&#x27;,\n",
       "                                                  OneHotEncoder(drop=&#x27;first&#x27;,\n",
       "                                                                sparse_output=False),\n",
       "                                                  [&#x27;Localidad&#x27;])])),\n",
       "                (&#x27;reg&#x27;, RandomForestRegressor(random_state=42))])</pre><b>In a Jupyter environment, please rerun this cell to show the HTML representation or trust the notebook. <br />On GitHub, the HTML representation is unable to render, please try loading this page with nbviewer.org.</b></div><div class=\"sk-container\" hidden><div class=\"sk-item sk-dashed-wrapped\"><div class=\"sk-label-container\"><div class=\"sk-label fitted sk-toggleable\"><input class=\"sk-toggleable__control sk-hidden--visually\" id=\"sk-estimator-id-1\" type=\"checkbox\" ><label for=\"sk-estimator-id-1\" class=\"sk-toggleable__label fitted sk-toggleable__label-arrow fitted\">&nbsp;&nbsp;Pipeline<a class=\"sk-estimator-doc-link fitted\" rel=\"noreferrer\" target=\"_blank\" href=\"https://scikit-learn.org/1.4/modules/generated/sklearn.pipeline.Pipeline.html\">?<span>Documentation for Pipeline</span></a><span class=\"sk-estimator-doc-link fitted\">i<span>Fitted</span></span></label><div class=\"sk-toggleable__content fitted\"><pre>Pipeline(steps=[(&#x27;pre&#x27;,\n",
       "                 ColumnTransformer(transformers=[(&#x27;quincena&#x27;,\n",
       "                                                  FunctionTransformer(feature_names_out=&#x27;one-to-one&#x27;,\n",
       "                                                                      func=&lt;function quincena_from_day at 0x0000026B072AFBA0&gt;),\n",
       "                                                  [&#x27;Día&#x27;]),\n",
       "                                                 (&#x27;aforo&#x27;, &#x27;passthrough&#x27;,\n",
       "                                                  [&#x27;aforo&#x27;]),\n",
       "                                                 (&#x27;localidad&#x27;,\n",
       "                                                  OneHotEncoder(drop=&#x27;first&#x27;,\n",
       "                                                                sparse_output=False),\n",
       "                                                  [&#x27;Localidad&#x27;])])),\n",
       "                (&#x27;reg&#x27;, RandomForestRegressor(random_state=42))])</pre></div> </div></div><div class=\"sk-serial\"><div class=\"sk-item sk-dashed-wrapped\"><div class=\"sk-label-container\"><div class=\"sk-label fitted sk-toggleable\"><input class=\"sk-toggleable__control sk-hidden--visually\" id=\"sk-estimator-id-2\" type=\"checkbox\" ><label for=\"sk-estimator-id-2\" class=\"sk-toggleable__label fitted sk-toggleable__label-arrow fitted\">&nbsp;pre: ColumnTransformer<a class=\"sk-estimator-doc-link fitted\" rel=\"noreferrer\" target=\"_blank\" href=\"https://scikit-learn.org/1.4/modules/generated/sklearn.compose.ColumnTransformer.html\">?<span>Documentation for pre: ColumnTransformer</span></a></label><div class=\"sk-toggleable__content fitted\"><pre>ColumnTransformer(transformers=[(&#x27;quincena&#x27;,\n",
       "                                 FunctionTransformer(feature_names_out=&#x27;one-to-one&#x27;,\n",
       "                                                     func=&lt;function quincena_from_day at 0x0000026B072AFBA0&gt;),\n",
       "                                 [&#x27;Día&#x27;]),\n",
       "                                (&#x27;aforo&#x27;, &#x27;passthrough&#x27;, [&#x27;aforo&#x27;]),\n",
       "                                (&#x27;localidad&#x27;,\n",
       "                                 OneHotEncoder(drop=&#x27;first&#x27;,\n",
       "                                               sparse_output=False),\n",
       "                                 [&#x27;Localidad&#x27;])])</pre></div> </div></div><div class=\"sk-parallel\"><div class=\"sk-parallel-item\"><div class=\"sk-item\"><div class=\"sk-label-container\"><div class=\"sk-label fitted sk-toggleable\"><input class=\"sk-toggleable__control sk-hidden--visually\" id=\"sk-estimator-id-3\" type=\"checkbox\" ><label for=\"sk-estimator-id-3\" class=\"sk-toggleable__label fitted sk-toggleable__label-arrow fitted\">quincena</label><div class=\"sk-toggleable__content fitted\"><pre>[&#x27;Día&#x27;]</pre></div> </div></div><div class=\"sk-serial\"><div class=\"sk-item\"><div class=\"sk-estimator fitted sk-toggleable\"><input class=\"sk-toggleable__control sk-hidden--visually\" id=\"sk-estimator-id-4\" type=\"checkbox\" ><label for=\"sk-estimator-id-4\" class=\"sk-toggleable__label fitted sk-toggleable__label-arrow fitted\">&nbsp;FunctionTransformer<a class=\"sk-estimator-doc-link fitted\" rel=\"noreferrer\" target=\"_blank\" href=\"https://scikit-learn.org/1.4/modules/generated/sklearn.preprocessing.FunctionTransformer.html\">?<span>Documentation for FunctionTransformer</span></a></label><div class=\"sk-toggleable__content fitted\"><pre>FunctionTransformer(feature_names_out=&#x27;one-to-one&#x27;,\n",
       "                    func=&lt;function quincena_from_day at 0x0000026B072AFBA0&gt;)</pre></div> </div></div></div></div></div><div class=\"sk-parallel-item\"><div class=\"sk-item\"><div class=\"sk-label-container\"><div class=\"sk-label fitted sk-toggleable\"><input class=\"sk-toggleable__control sk-hidden--visually\" id=\"sk-estimator-id-5\" type=\"checkbox\" ><label for=\"sk-estimator-id-5\" class=\"sk-toggleable__label fitted sk-toggleable__label-arrow fitted\">aforo</label><div class=\"sk-toggleable__content fitted\"><pre>[&#x27;aforo&#x27;]</pre></div> </div></div><div class=\"sk-serial\"><div class=\"sk-item\"><div class=\"sk-estimator fitted sk-toggleable\"><input class=\"sk-toggleable__control sk-hidden--visually\" id=\"sk-estimator-id-6\" type=\"checkbox\" ><label for=\"sk-estimator-id-6\" class=\"sk-toggleable__label fitted sk-toggleable__label-arrow fitted\">passthrough</label><div class=\"sk-toggleable__content fitted\"><pre>passthrough</pre></div> </div></div></div></div></div><div class=\"sk-parallel-item\"><div class=\"sk-item\"><div class=\"sk-label-container\"><div class=\"sk-label fitted sk-toggleable\"><input class=\"sk-toggleable__control sk-hidden--visually\" id=\"sk-estimator-id-7\" type=\"checkbox\" ><label for=\"sk-estimator-id-7\" class=\"sk-toggleable__label fitted sk-toggleable__label-arrow fitted\">localidad</label><div class=\"sk-toggleable__content fitted\"><pre>[&#x27;Localidad&#x27;]</pre></div> </div></div><div class=\"sk-serial\"><div class=\"sk-item\"><div class=\"sk-estimator fitted sk-toggleable\"><input class=\"sk-toggleable__control sk-hidden--visually\" id=\"sk-estimator-id-8\" type=\"checkbox\" ><label for=\"sk-estimator-id-8\" class=\"sk-toggleable__label fitted sk-toggleable__label-arrow fitted\">&nbsp;OneHotEncoder<a class=\"sk-estimator-doc-link fitted\" rel=\"noreferrer\" target=\"_blank\" href=\"https://scikit-learn.org/1.4/modules/generated/sklearn.preprocessing.OneHotEncoder.html\">?<span>Documentation for OneHotEncoder</span></a></label><div class=\"sk-toggleable__content fitted\"><pre>OneHotEncoder(drop=&#x27;first&#x27;, sparse_output=False)</pre></div> </div></div></div></div></div></div></div><div class=\"sk-item\"><div class=\"sk-estimator fitted sk-toggleable\"><input class=\"sk-toggleable__control sk-hidden--visually\" id=\"sk-estimator-id-9\" type=\"checkbox\" ><label for=\"sk-estimator-id-9\" class=\"sk-toggleable__label fitted sk-toggleable__label-arrow fitted\">&nbsp;RandomForestRegressor<a class=\"sk-estimator-doc-link fitted\" rel=\"noreferrer\" target=\"_blank\" href=\"https://scikit-learn.org/1.4/modules/generated/sklearn.ensemble.RandomForestRegressor.html\">?<span>Documentation for RandomForestRegressor</span></a></label><div class=\"sk-toggleable__content fitted\"><pre>RandomForestRegressor(random_state=42)</pre></div> </div></div></div></div></div></div>"
      ],
      "text/plain": [
       "Pipeline(steps=[('pre',\n",
       "                 ColumnTransformer(transformers=[('quincena',\n",
       "                                                  FunctionTransformer(feature_names_out='one-to-one',\n",
       "                                                                      func=<function quincena_from_day at 0x0000026B072AFBA0>),\n",
       "                                                  ['Día']),\n",
       "                                                 ('aforo', 'passthrough',\n",
       "                                                  ['aforo']),\n",
       "                                                 ('localidad',\n",
       "                                                  OneHotEncoder(drop='first',\n",
       "                                                                sparse_output=False),\n",
       "                                                  ['Localidad'])])),\n",
       "                ('reg', RandomForestRegressor(random_state=42))])"
      ]
     },
     "execution_count": 19,
     "metadata": {},
     "output_type": "execute_result"
    }
   ],
   "source": [
    "from sklearn.pipeline import Pipeline\n",
    "from sklearn.compose import ColumnTransformer\n",
    "from sklearn.ensemble import RandomForestRegressor\n",
    "from sklearn.preprocessing import OneHotEncoder, FunctionTransformer\n",
    "import numpy as np\n",
    "\n",
    "# seteamos vars para predecir popularidad \n",
    "\n",
    "\n",
    "# Función para categorizar el día en quincena\n",
    "def quincena_from_day(dias):\n",
    "    # dias puede ser una Serie o array de strings o ints\n",
    "    dias = dias.astype(int)\n",
    "    return np.where(dias <= 15, '1', '2').reshape(-1, 1)\n",
    "\n",
    "# Suponiendo que el DataFrame de entrada es df_conciertos_sin_ineditos\n",
    "# y tiene las columnas 'Día', 'aforo', 'Localidad', 'indice_popularidad_norm'\n",
    "\n",
    "# Preparamos las features\n",
    "X = df_conciertos_sin_ineditos[['Día', 'aforo', 'Localidad']]\n",
    "y = df_conciertos_sin_ineditos['indice_popularidad_norm']\n",
    "\n",
    "# Preprocesadores\n",
    "preprocessor = ColumnTransformer(\n",
    "    transformers=[\n",
    "        ('quincena', FunctionTransformer(quincena_from_day, feature_names_out='one-to-one'), ['Día']),\n",
    "        ('aforo', 'passthrough', ['aforo']),\n",
    "        ('localidad', OneHotEncoder(drop='first', sparse_output=False), ['Localidad'])\n",
    "    ],\n",
    "    remainder='drop'\n",
    ")\n",
    "\n",
    "# Pipeline\n",
    "pipeline = Pipeline([\n",
    "    ('pre', preprocessor),\n",
    "    ('reg', RandomForestRegressor(random_state=42))\n",
    "])\n",
    "\n",
    "# Entrenar el pipeline\n",
    "pipeline.fit(X, y)\n",
    "\n"
   ]
  },
  {
   "cell_type": "code",
   "execution_count": 20,
   "id": "9db1b08f",
   "metadata": {},
   "outputs": [
    {
     "name": "stdout",
     "output_type": "stream",
     "text": [
      "Mean Squared Error: 0.0006806220392995918\n",
      "R^2 Score: 0.7813045344130563\n"
     ]
    }
   ],
   "source": [
    "# Evaluar el modelo\n",
    "from sklearn.metrics import mean_squared_error, r2_score\n",
    "y_pred = pipeline.predict(X)\n",
    "mse = mean_squared_error(y, y_pred)\n",
    "r2 = r2_score(y, y_pred)\n",
    "print(f'Mean Squared Error: {mse}')\n",
    "print(f'R^2 Score: {r2}')\n"
   ]
  },
  {
   "cell_type": "code",
   "execution_count": 21,
   "id": "a5c78059",
   "metadata": {},
   "outputs": [
    {
     "data": {
      "text/plain": [
       "count    141.000000\n",
       "mean       0.430426\n",
       "std        0.055986\n",
       "min        0.322628\n",
       "25%        0.385355\n",
       "50%        0.428116\n",
       "75%        0.464774\n",
       "max        0.579356\n",
       "Name: indice_popularidad_norm, dtype: float64"
      ]
     },
     "execution_count": 21,
     "metadata": {},
     "output_type": "execute_result"
    }
   ],
   "source": [
    "# escala de la variable objetivo\n",
    "\n",
    "df_conciertos_sin_ineditos['indice_popularidad_norm'].describe()"
   ]
  },
  {
   "cell_type": "code",
   "execution_count": 22,
   "id": "1b8d1c93",
   "metadata": {},
   "outputs": [],
   "source": [
    "import pandas as pd\n",
    "import json\n",
    "\n",
    "# Cargar el JSON\n",
    "with open('Setlists_Piojos.json', 'r', encoding='utf-8') as f:\n",
    "    setlists_data = json.load(f)\n",
    "\n",
    "# Convertir a DataFrame\n",
    "df_setlists = pd.DataFrame(setlists_data)\n",
    "\n",
    "# Crear columna de fecha para mergear (asegurate que el formato coincida con tu df principal)\n",
    "df_setlists['fecha'] = df_setlists.apply(lambda row: f\"{row['year']}-{row['month']:02d}-{row['day']:02d}\", axis=1)\n",
    "df_setlists['lugar'] = df_setlists['venue']\n",
    "\n",
    "# Dejá solo las columnas que te interesan\n",
    "df_setlists = df_setlists[['fecha', 'lugar', 'songs']].rename(columns={'songs': 'canciones_show'})\n",
    "\n",
    "# Mergeá con tu DataFrame principal (por fecha y lugar)\n",
    "df_conciertos_sin_ineditos = df_conciertos_sin_ineditos.merge(df_setlists, on=['fecha', 'lugar'], how='left')\n"
   ]
  },
  {
   "cell_type": "code",
   "execution_count": 23,
   "id": "df082837",
   "metadata": {},
   "outputs": [
    {
     "data": {
      "text/html": [
       "<div>\n",
       "<style scoped>\n",
       "    .dataframe tbody tr th:only-of-type {\n",
       "        vertical-align: middle;\n",
       "    }\n",
       "\n",
       "    .dataframe tbody tr th {\n",
       "        vertical-align: top;\n",
       "    }\n",
       "\n",
       "    .dataframe thead th {\n",
       "        text-align: right;\n",
       "    }\n",
       "</style>\n",
       "<table border=\"1\" class=\"dataframe\">\n",
       "  <thead>\n",
       "    <tr style=\"text-align: right;\">\n",
       "      <th></th>\n",
       "      <th>fecha</th>\n",
       "      <th>lugar</th>\n",
       "      <th>indice_popularidad_norm</th>\n",
       "      <th>Lugar</th>\n",
       "      <th>Localidad</th>\n",
       "      <th>País</th>\n",
       "      <th>Año</th>\n",
       "      <th>Mes</th>\n",
       "      <th>Día</th>\n",
       "      <th>aforo</th>\n",
       "      <th>Zona</th>\n",
       "      <th>canciones_show</th>\n",
       "      <th>cantidad_canciones</th>\n",
       "    </tr>\n",
       "  </thead>\n",
       "  <tbody>\n",
       "    <tr>\n",
       "      <th>0</th>\n",
       "      <td>1997-03-29</td>\n",
       "      <td>Costa Chaval, Concordia, Argentina</td>\n",
       "      <td>0.378780</td>\n",
       "      <td>Costa Chaval</td>\n",
       "      <td>Concordia</td>\n",
       "      <td>Argentina</td>\n",
       "      <td>1997</td>\n",
       "      <td>03</td>\n",
       "      <td>29</td>\n",
       "      <td>1500</td>\n",
       "      <td>Interior</td>\n",
       "      <td>[Ximenita, Taxi Boy, Babilonia, Ay ay ay, Gris...</td>\n",
       "      <td>26</td>\n",
       "    </tr>\n",
       "    <tr>\n",
       "      <th>1</th>\n",
       "      <td>1997-07-18</td>\n",
       "      <td>Microestadio Racing Club, Avellaneda, Argentina</td>\n",
       "      <td>0.358387</td>\n",
       "      <td>Microestadio Racing Club</td>\n",
       "      <td>Avellaneda</td>\n",
       "      <td>Argentina</td>\n",
       "      <td>1997</td>\n",
       "      <td>07</td>\n",
       "      <td>18</td>\n",
       "      <td>3500</td>\n",
       "      <td>Buenos Aires</td>\n",
       "      <td>[Arco, Babilonia, Ay ay ay, Gris, Angelito, Ge...</td>\n",
       "      <td>23</td>\n",
       "    </tr>\n",
       "    <tr>\n",
       "      <th>2</th>\n",
       "      <td>1997-07-19</td>\n",
       "      <td>Microestadio Racing Club, Avellaneda, Argentina</td>\n",
       "      <td>0.367850</td>\n",
       "      <td>Microestadio Racing Club</td>\n",
       "      <td>Avellaneda</td>\n",
       "      <td>Argentina</td>\n",
       "      <td>1997</td>\n",
       "      <td>07</td>\n",
       "      <td>19</td>\n",
       "      <td>3500</td>\n",
       "      <td>Buenos Aires</td>\n",
       "      <td>[Chac tu chac, Ximenita, Taxi Boy, Gris, Muy d...</td>\n",
       "      <td>24</td>\n",
       "    </tr>\n",
       "    <tr>\n",
       "      <th>3</th>\n",
       "      <td>1998-05-17</td>\n",
       "      <td>Parque Sarmiento, Buenos Aires, Argentina</td>\n",
       "      <td>0.354167</td>\n",
       "      <td>Parque Sarmiento</td>\n",
       "      <td>Buenos Aires</td>\n",
       "      <td>Argentina</td>\n",
       "      <td>1998</td>\n",
       "      <td>05</td>\n",
       "      <td>17</td>\n",
       "      <td>20000</td>\n",
       "      <td>Buenos Aires</td>\n",
       "      <td>[Yira yira, Babilonia, Taxi Boy, Vals inicial,...</td>\n",
       "      <td>26</td>\n",
       "    </tr>\n",
       "    <tr>\n",
       "      <th>4</th>\n",
       "      <td>1998-08-22</td>\n",
       "      <td>Polideportivo Club de Gimnasia y Esgrima La Pl...</td>\n",
       "      <td>0.336848</td>\n",
       "      <td>Polideportivo Club de Gimnasia y Esgrima La Plata</td>\n",
       "      <td>La Plata</td>\n",
       "      <td>Argentina</td>\n",
       "      <td>1998</td>\n",
       "      <td>08</td>\n",
       "      <td>22</td>\n",
       "      <td>3000</td>\n",
       "      <td>Interior Buenos Aires</td>\n",
       "      <td>[Babilonia, Yira yira, Desde lejos no se ve, T...</td>\n",
       "      <td>26</td>\n",
       "    </tr>\n",
       "    <tr>\n",
       "      <th>...</th>\n",
       "      <td>...</td>\n",
       "      <td>...</td>\n",
       "      <td>...</td>\n",
       "      <td>...</td>\n",
       "      <td>...</td>\n",
       "      <td>...</td>\n",
       "      <td>...</td>\n",
       "      <td>...</td>\n",
       "      <td>...</td>\n",
       "      <td>...</td>\n",
       "      <td>...</td>\n",
       "      <td>...</td>\n",
       "      <td>...</td>\n",
       "    </tr>\n",
       "    <tr>\n",
       "      <th>136</th>\n",
       "      <td>2025-04-26</td>\n",
       "      <td>Hipódromo Parque de La Independencia, Rosario,...</td>\n",
       "      <td>0.466426</td>\n",
       "      <td>Hipódromo Parque de La Independencia</td>\n",
       "      <td>Rosario</td>\n",
       "      <td>Argentina</td>\n",
       "      <td>2025</td>\n",
       "      <td>04</td>\n",
       "      <td>26</td>\n",
       "      <td>30000</td>\n",
       "      <td>Interior</td>\n",
       "      <td>[Llévatelo, María y José, Desde lejos no se ve...</td>\n",
       "      <td>28</td>\n",
       "    </tr>\n",
       "    <tr>\n",
       "      <th>137</th>\n",
       "      <td>2025-05-03</td>\n",
       "      <td>Teatro Griego Frank Romero Day, Mendoza, Argen...</td>\n",
       "      <td>0.474947</td>\n",
       "      <td>Teatro Griego Frank Romero Day</td>\n",
       "      <td>Mendoza</td>\n",
       "      <td>Argentina</td>\n",
       "      <td>2025</td>\n",
       "      <td>05</td>\n",
       "      <td>03</td>\n",
       "      <td>20000</td>\n",
       "      <td>Interior</td>\n",
       "      <td>[Ruleta, Arco, Yira yira, Vine hasta aquí, Civ...</td>\n",
       "      <td>31</td>\n",
       "    </tr>\n",
       "    <tr>\n",
       "      <th>138</th>\n",
       "      <td>2025-05-10</td>\n",
       "      <td>Playón Mario Alberto Kempes, Córdoba, Argentina</td>\n",
       "      <td>0.486439</td>\n",
       "      <td>Playón Mario Alberto Kempes</td>\n",
       "      <td>Córdoba</td>\n",
       "      <td>Argentina</td>\n",
       "      <td>2025</td>\n",
       "      <td>05</td>\n",
       "      <td>10</td>\n",
       "      <td>30000</td>\n",
       "      <td>Interior</td>\n",
       "      <td>[Fantasma, Desde lejos no se ve, Ruleta, Civil...</td>\n",
       "      <td>29</td>\n",
       "    </tr>\n",
       "    <tr>\n",
       "      <th>139</th>\n",
       "      <td>2025-05-24</td>\n",
       "      <td>Parque de la Ciudad, Buenos Aires, Argentina</td>\n",
       "      <td>0.369988</td>\n",
       "      <td>Parque de la Ciudad</td>\n",
       "      <td>Buenos Aires</td>\n",
       "      <td>Argentina</td>\n",
       "      <td>2025</td>\n",
       "      <td>05</td>\n",
       "      <td>24</td>\n",
       "      <td>50000</td>\n",
       "      <td>Buenos Aires</td>\n",
       "      <td>[Unbekannt, El balneario de los doctores croto...</td>\n",
       "      <td>30</td>\n",
       "    </tr>\n",
       "    <tr>\n",
       "      <th>140</th>\n",
       "      <td>2025-05-25</td>\n",
       "      <td>Parque de la Ciudad, Buenos Aires, Argentina</td>\n",
       "      <td>0.409990</td>\n",
       "      <td>Parque de la Ciudad</td>\n",
       "      <td>Buenos Aires</td>\n",
       "      <td>Argentina</td>\n",
       "      <td>2025</td>\n",
       "      <td>05</td>\n",
       "      <td>25</td>\n",
       "      <td>50000</td>\n",
       "      <td>Buenos Aires</td>\n",
       "      <td>[Unbekannt, Desde lejos no se ve, Ruleta, Difí...</td>\n",
       "      <td>33</td>\n",
       "    </tr>\n",
       "  </tbody>\n",
       "</table>\n",
       "<p>141 rows × 13 columns</p>\n",
       "</div>"
      ],
      "text/plain": [
       "          fecha                                              lugar  \\\n",
       "0    1997-03-29                 Costa Chaval, Concordia, Argentina   \n",
       "1    1997-07-18    Microestadio Racing Club, Avellaneda, Argentina   \n",
       "2    1997-07-19    Microestadio Racing Club, Avellaneda, Argentina   \n",
       "3    1998-05-17          Parque Sarmiento, Buenos Aires, Argentina   \n",
       "4    1998-08-22  Polideportivo Club de Gimnasia y Esgrima La Pl...   \n",
       "..          ...                                                ...   \n",
       "136  2025-04-26  Hipódromo Parque de La Independencia, Rosario,...   \n",
       "137  2025-05-03  Teatro Griego Frank Romero Day, Mendoza, Argen...   \n",
       "138  2025-05-10    Playón Mario Alberto Kempes, Córdoba, Argentina   \n",
       "139  2025-05-24       Parque de la Ciudad, Buenos Aires, Argentina   \n",
       "140  2025-05-25       Parque de la Ciudad, Buenos Aires, Argentina   \n",
       "\n",
       "     indice_popularidad_norm  \\\n",
       "0                   0.378780   \n",
       "1                   0.358387   \n",
       "2                   0.367850   \n",
       "3                   0.354167   \n",
       "4                   0.336848   \n",
       "..                       ...   \n",
       "136                 0.466426   \n",
       "137                 0.474947   \n",
       "138                 0.486439   \n",
       "139                 0.369988   \n",
       "140                 0.409990   \n",
       "\n",
       "                                                 Lugar      Localidad  \\\n",
       "0                                         Costa Chaval      Concordia   \n",
       "1                             Microestadio Racing Club     Avellaneda   \n",
       "2                             Microestadio Racing Club     Avellaneda   \n",
       "3                                     Parque Sarmiento   Buenos Aires   \n",
       "4    Polideportivo Club de Gimnasia y Esgrima La Plata       La Plata   \n",
       "..                                                 ...            ...   \n",
       "136               Hipódromo Parque de La Independencia        Rosario   \n",
       "137                     Teatro Griego Frank Romero Day        Mendoza   \n",
       "138                        Playón Mario Alberto Kempes        Córdoba   \n",
       "139                                Parque de la Ciudad   Buenos Aires   \n",
       "140                                Parque de la Ciudad   Buenos Aires   \n",
       "\n",
       "           País   Año Mes Día  aforo                   Zona  \\\n",
       "0     Argentina  1997  03  29   1500               Interior   \n",
       "1     Argentina  1997  07  18   3500           Buenos Aires   \n",
       "2     Argentina  1997  07  19   3500           Buenos Aires   \n",
       "3     Argentina  1998  05  17  20000           Buenos Aires   \n",
       "4     Argentina  1998  08  22   3000  Interior Buenos Aires   \n",
       "..          ...   ...  ..  ..    ...                    ...   \n",
       "136   Argentina  2025  04  26  30000               Interior   \n",
       "137   Argentina  2025  05  03  20000               Interior   \n",
       "138   Argentina  2025  05  10  30000               Interior   \n",
       "139   Argentina  2025  05  24  50000           Buenos Aires   \n",
       "140   Argentina  2025  05  25  50000           Buenos Aires   \n",
       "\n",
       "                                        canciones_show  cantidad_canciones  \n",
       "0    [Ximenita, Taxi Boy, Babilonia, Ay ay ay, Gris...                  26  \n",
       "1    [Arco, Babilonia, Ay ay ay, Gris, Angelito, Ge...                  23  \n",
       "2    [Chac tu chac, Ximenita, Taxi Boy, Gris, Muy d...                  24  \n",
       "3    [Yira yira, Babilonia, Taxi Boy, Vals inicial,...                  26  \n",
       "4    [Babilonia, Yira yira, Desde lejos no se ve, T...                  26  \n",
       "..                                                 ...                 ...  \n",
       "136  [Llévatelo, María y José, Desde lejos no se ve...                  28  \n",
       "137  [Ruleta, Arco, Yira yira, Vine hasta aquí, Civ...                  31  \n",
       "138  [Fantasma, Desde lejos no se ve, Ruleta, Civil...                  29  \n",
       "139  [Unbekannt, El balneario de los doctores croto...                  30  \n",
       "140  [Unbekannt, Desde lejos no se ve, Ruleta, Difí...                  33  \n",
       "\n",
       "[141 rows x 13 columns]"
      ]
     },
     "execution_count": 23,
     "metadata": {},
     "output_type": "execute_result"
    }
   ],
   "source": [
    "df_conciertos_sin_ineditos['cantidad_canciones'] = df_conciertos_sin_ineditos['canciones_show'].apply(lambda x: len(x) if isinstance(x, list) else 0)\n",
    "df_conciertos_sin_ineditos"
   ]
  },
  {
   "cell_type": "code",
   "execution_count": 24,
   "id": "c6976be2",
   "metadata": {},
   "outputs": [],
   "source": [
    "# Definí qué es un \"hit\" (top 25% más populares)\n",
    "umbral_hit = df_popularidad['indice_popularidad_norm'].quantile(0.75)\n",
    "hits = set(df_popularidad[df_popularidad['indice_popularidad_norm'] >= umbral_hit]['cancion_norm'])\n",
    "\n",
    "def proporcion_hits(canciones):\n",
    "    if not isinstance(canciones, list) or len(canciones) == 0:\n",
    "        return 0\n",
    "    canciones_norm = [normalize(c) for c in canciones]\n",
    "    return sum(c in hits for c in canciones_norm) / len(canciones_norm)\n",
    "\n",
    "df_conciertos_sin_ineditos['proporcion_hits'] = df_conciertos_sin_ineditos['canciones_show'].apply(proporcion_hits)"
   ]
  },
  {
   "cell_type": "code",
   "execution_count": 25,
   "id": "83bd00d1",
   "metadata": {},
   "outputs": [],
   "source": [
    "import calendar\n",
    "\n",
    "df_conciertos_sin_ineditos['Año'] = df_conciertos_sin_ineditos['fecha'].str[:4].astype(int)\n",
    "df_conciertos_sin_ineditos['Mes'] = df_conciertos_sin_ineditos['fecha'].str[5:7].astype(int)\n",
    "df_conciertos_sin_ineditos['Día'] = df_conciertos_sin_ineditos['fecha'].str[8:10].astype(int)\n",
    "df_conciertos_sin_ineditos['DíaSemana'] = pd.to_datetime(df_conciertos_sin_ineditos['fecha']).dt.day_name()\n",
    "\n",
    "# Estación\n",
    "def get_estacion(mes):\n",
    "    if mes in [12, 1, 2]:\n",
    "        return 'Verano'\n",
    "    elif mes in [3, 4, 5]:\n",
    "        return 'Otoño'\n",
    "    elif mes in [6, 7, 8]:\n",
    "        return 'Invierno'\n",
    "    else:\n",
    "        return 'Primavera'\n",
    "\n",
    "df_conciertos_sin_ineditos['Estacion'] = df_conciertos_sin_ineditos['Mes'].apply(get_estacion)"
   ]
  },
  {
   "cell_type": "code",
   "execution_count": 26,
   "id": "90c8bb68",
   "metadata": {},
   "outputs": [],
   "source": [
    "festivales = ['Cosquín Rock', 'Quilmes Rock', 'Personal Fest']  # agregá los que tengas\n",
    "df_conciertos_sin_ineditos['es_festival'] = df_conciertos_sin_ineditos['lugar'].apply(\n",
    "    lambda x: any(fest in x for fest in festivales)\n",
    ")"
   ]
  },
  {
   "cell_type": "code",
   "execution_count": 27,
   "id": "ed727cfa",
   "metadata": {},
   "outputs": [
    {
     "name": "stderr",
     "output_type": "stream",
     "text": [
      "C:\\Users\\Yo\\AppData\\Local\\Temp\\ipykernel_2780\\2661234499.py:4: FutureWarning: The default value of observed=False is deprecated and will change to observed=True in a future version of pandas. Specify observed=False to silence this warning and retain the current behavior\n",
      "  tabla = pd.pivot_table(df_conciertos_sin_ineditos, values='indice_popularidad_norm', index='Año', columns='Zona')\n"
     ]
    },
    {
     "data": {
      "image/png": "[encoded data removed]",
      "text/plain": [
       "<Figure size 1200x600 with 2 Axes>"
      ]
     },
     "metadata": {},
     "output_type": "display_data"
    }
   ],
   "source": [
    "import seaborn as sns\n",
    "import matplotlib.pyplot as plt\n",
    "\n",
    "tabla = pd.pivot_table(df_conciertos_sin_ineditos, values='indice_popularidad_norm', index='Año', columns='Zona')\n",
    "plt.figure(figsize=(12,6))\n",
    "sns.heatmap(tabla, cmap='YlGnBu')\n",
    "plt.title('Popularidad promedio por año y ciudad')\n",
    "plt.show()"
   ]
  },
  {
   "cell_type": "code",
   "execution_count": 28,
   "id": "df9406ec",
   "metadata": {},
   "outputs": [
    {
     "data": {
      "image/png": "[encoded data removed]",
      "text/plain": [
       "<Figure size 640x480 with 1 Axes>"
      ]
     },
     "metadata": {},
     "output_type": "display_data"
    }
   ],
   "source": [
    "import numpy as np\n",
    "\n",
    "# Reemplaza los valores entre 2009 y 2023 por NaN para romper la línea\n",
    "serie = df_conciertos_sin_ineditos.groupby('Año')['indice_popularidad_norm'].mean()\n",
    "serie_filtrada = serie.copy()\n",
    "serie_filtrada.loc[serie_filtrada.index.to_series().between(2009, 2023)] = np.nan\n",
    "\n",
    "serie_filtrada.plot(marker='o')\n",
    "plt.title('Evolución de la popularidad promedio')\n",
    "plt.ylabel('Popularidad normalizada')\n",
    "plt.show()"
   ]
  },
  {
   "cell_type": "code",
   "execution_count": null,
   "id": "a1b25fe8",
   "metadata": {},
   "outputs": [],
   "source": [
    "from wordcloud import WordCloud, STOPWORDS\n",
    "from PIL import Image\n",
    "\n",
    "\n",
    "\n",
    "# Si ya tenés un DataFrame con canciones y su cantidad de veces tocada:\n",
    "# Supongamos que se llama df_canciones y tiene columnas 'cancion' y 'veces_tocada'\n",
    "\n",
    "# Expandir la lista 'todas' a partir del DataFrame\n",
    "todas = []\n",
    "for idx, row in df_popularidad.iterrows():\n",
    "    todas.extend([row['canción']] * int(row['veces_tocada']))\n",
    "    \n",
    "# Normalizar las canciones para asegurar consistencia\n",
    "todas = [normalize(song) for song in todas]\n",
    "# Eliminar duplicados\n",
    "\n",
    "# Diccionario manual de colores por álbum\n",
    "album_colors = {\n",
    "    \"Chac Tu Chac\": \"#694c47\",\n",
    "    \"Ay Ay Ay\": \"#c91a1a\",\n",
    "    \"3er Arco\": \"#f0a924\",\n",
    "    \"Azul\": \"#3476b5\",\n",
    "    \"Verde Paisaje del Infierno\": \"#557346\",\n",
    "    \"Maquina de Sangre\": \"#fa823e\",\n",
    "    \"Civilizacion\": \"#d7c391\",\n",
    "    \"Ineditos\": \"#979c9c\"\n",
    "}\n",
    "\n",
    "# Asignar color a cada canción según su álbum\n",
    "color_dict = {}\n",
    "for song in todas:\n",
    "    norm_song = normalize(song)\n",
    "    album = song_to_album.get(norm_song, \"Ineditos\")\n",
    "    color_dict[norm_song] = album_colors.get(album, \"#000000\")\n",
    "\n",
    "\n",
    "\n",
    "\n",
    "# Ahora, para cada canción, buscamos el color de su álbum\n",
    "color_dict = {normalize(song): album_colors.get(song_to_album.get(normalize(song), \"Ineditos\"), \"#000000\") for song in todas}\n",
    "\n",
    "\n",
    "\n",
    "def color_asignado(cancion, font_size, position, orientation, font_path, random_state):\n",
    "    return color_dict.get(cancion, \"#000000\")\n",
    "\n"
   ]
  },
  {
   "cell_type": "code",
   "execution_count": 65,
   "id": "73d42218",
   "metadata": {},
   "outputs": [],
   "source": [
    "from collections import Counter\n",
    "from PIL import Image, ImageOps, ImageFilter\n",
    "\n",
    "los_piojos = r'C:\\Users\\Yo\\AppData\\Local\\Microsoft\\Windows\\Fonts\\Los_Piojos.ttf'\n",
    "\n",
    "logo_path = r\"C:\\Users\\Yo\\Downloads\\576e4d7b40b73db09a3c22973ab3da9f.jpg\"\n",
    "\n",
    "img = Image.open(logo_path).convert(\"L\")\n",
    "mask = np.array(img)\n",
    "\n",
    "# 2. Invertí la máscara: palabras SOLO en lo negro\n",
    "mask = np.where(mask > 128, 0, 255).astype(np.uint8)\n",
    "\n",
    "\n",
    "\n",
    "# Contar la frecuencia de cada canción\n",
    "freq = Counter(todas)\n",
    "\n",
    "# Encontrar las 10 más frecuentes\n",
    "top_n = 200\n",
    "top_canciones = [c for c, _ in freq.most_common(top_n)]\n",
    "\n",
    "# Multiplicar su frecuencia (por ejemplo, x2)\n",
    "for c in top_canciones:\n",
    "    freq[c] = int(freq[c] * 2)\n"
   ]
  },
  {
   "cell_type": "code",
   "execution_count": 69,
   "id": "54b0a897",
   "metadata": {},
   "outputs": [
    {
     "data": {
      "text/plain": [
       "<wordcloud.wordcloud.WordCloud at 0x26b0ba05d90>"
      ]
     },
     "execution_count": 69,
     "metadata": {},
     "output_type": "execute_result"
    }
   ],
   "source": [
    "\n",
    "wc = WordCloud(\n",
    "    background_color='white',\n",
    "    color_func=color_asignado,  # Si ya tenés una función que asigna colores personalizados\n",
    "    width=1600,\n",
    "    height=900,\n",
    "    prefer_horizontal=0.95,\n",
    "    font_path=los_piojos,  # Podés poner una fuente .ttf si querés una estética especial\n",
    "    max_words=200,\n",
    "    min_font_size=10,\n",
    "    max_font_size=180,\n",
    "    collocations=False,\n",
    "    contour_width=1,\n",
    "    margin=2,\n",
    "    stopwords=STOPWORDS.union({'de', 'la', 'el'}),  # O ajustá a tus textos\n",
    "    scale=2,  # Mejora resolución sin cambiar tamaño del archivo final\n",
    "    normalize_plurals=True,\n",
    "    repeat=False,\n",
    "    relative_scaling=0.7,\n",
    "    mask=mask  # Solo si querés usar una forma personalizada\n",
    ")\n",
    "\n",
    "wc.generate_from_frequencies(freq)\n",
    "\n"
   ]
  },
  {
   "cell_type": "code",
   "execution_count": 70,
   "id": "072671c2",
   "metadata": {},
   "outputs": [
    {
     "data": {
      "image/png": "[encoded data removed]",
      "text/plain": [
       "<Figure size 1600x900 with 1 Axes>"
      ]
     },
     "metadata": {},
     "output_type": "display_data"
    }
   ],
   "source": [
    "from PIL import Image\n",
    "\n",
    "\n",
    "\n",
    "# 1. Cargá el logo (JPG, fondo blanco)\n",
    "logo = Image.open(r\"C:\\Users\\Yo\\Downloads\\576e4d7b40b73db09a3c22973ab3da9f.jpg\").convert(\"RGBA\")\n",
    "datas = logo.getdata()\n",
    "wc_img = wc.to_array()\n",
    "# 2. Hacé transparente el blanco\n",
    "newData = []\n",
    "for item in datas:\n",
    "    # Si es casi blanco, lo hacemos transparente\n",
    "    if item[0] > 200 and item[1] > 200 and item[2] > 200:\n",
    "        newData.append((255, 255, 255, 0))\n",
    "    else:\n",
    "        newData.append(item)\n",
    "logo.putdata(newData)\n",
    "\n",
    "# 3. Redimensioná y superponé como antes\n",
    "logo = logo.resize((wc_img.shape[1], wc_img.shape[0]))\n",
    "wc_pil = Image.fromarray(wc_img).convert(\"RGBA\")\n",
    "final = Image.alpha_composite(wc_pil, logo)\n",
    "\n",
    "plt.figure(figsize=(16, 9))\n",
    "plt.imshow(final)\n",
    "plt.axis('off')\n",
    "plt.tight_layout(pad=0)\n",
    "plt.show()"
   ]
  },
  {
   "cell_type": "code",
   "execution_count": 105,
   "id": "749762cc",
   "metadata": {},
   "outputs": [
    {
     "name": "stdout",
     "output_type": "stream",
     "text": [
      "MSE: 0.00021621324047820258\n",
      "R2: 0.9305269994766819\n"
     ]
    }
   ],
   "source": [
    "from sklearn.pipeline import Pipeline\n",
    "from sklearn.compose import ColumnTransformer\n",
    "from sklearn.ensemble import RandomForestRegressor\n",
    "from sklearn.preprocessing import OneHotEncoder, FunctionTransformer\n",
    "import numpy as np\n",
    "\n",
    "# Elegí las columnas que vas a usar\n",
    "features = [\n",
    "    'cantidad_canciones', 'aforo', 'Mes',\n",
    "    'DíaSemana', 'Estacion', 'Zona'\n",
    "]\n",
    "\n",
    "X = df_conciertos_sin_ineditos[features]\n",
    "y = df_conciertos_sin_ineditos['indice_popularidad_norm']\n",
    "\n",
    "# Preprocesador para variables categóricas\n",
    "categorical = ['DíaSemana', 'Estacion', 'Zona']\n",
    "preprocessor = ColumnTransformer(\n",
    "    transformers=[\n",
    "        ('cat', OneHotEncoder(drop='first', sparse_output=False), categorical)\n",
    "    ],\n",
    "    remainder='passthrough'\n",
    ")\n",
    "\n",
    "# Pipeline con RandomForest\n",
    "pipeline = Pipeline([\n",
    "    ('pre', preprocessor),\n",
    "    ('reg', RandomForestRegressor(random_state=42))\n",
    "])\n",
    "\n",
    "pipeline.fit(X, y)\n",
    "\n",
    "# Evaluación\n",
    "from sklearn.metrics import mean_squared_error, r2_score\n",
    "y_pred = pipeline.predict(X)\n",
    "print('MSE:', mean_squared_error(y, y_pred))\n",
    "print('R2:', r2_score(y, y_pred))"
   ]
  },
  {
   "cell_type": "code",
   "execution_count": 106,
   "id": "59dda273",
   "metadata": {},
   "outputs": [
    {
     "name": "stdout",
     "output_type": "stream",
     "text": [
      "                            feature  importance\n",
      "14    remainder__cantidad_canciones    0.324236\n",
      "15                 remainder__aforo    0.206133\n",
      "16                   remainder__Mes    0.112826\n",
      "10               cat__Zona_Interior    0.067324\n",
      "13           cat__Zona_Interior Sur    0.059626\n",
      "7           cat__Estacion_Primavera    0.057283\n",
      "9                cat__Zona_Exterior    0.029062\n",
      "1           cat__DíaSemana_Saturday    0.020764\n",
      "2             cat__DíaSemana_Sunday    0.019564\n",
      "6               cat__Estacion_Otoño    0.018831\n",
      "11  cat__Zona_Interior Buenos Aires    0.018445\n",
      "0             cat__DíaSemana_Monday    0.017231\n",
      "3           cat__DíaSemana_Thursday    0.010945\n",
      "8              cat__Estacion_Verano    0.010873\n",
      "12         cat__Zona_Interior Norte    0.010692\n",
      "4            cat__DíaSemana_Tuesday    0.010328\n",
      "5          cat__DíaSemana_Wednesday    0.005836\n"
     ]
    }
   ],
   "source": [
    "# Ver importancia de las variables\n",
    "importances = pipeline.named_steps['reg'].feature_importances_\n",
    "feature_names = preprocessor.get_feature_names_out(features)\n",
    "importance_df = pd.DataFrame({\n",
    "    'feature': feature_names,\n",
    "    'importance': importances\n",
    "}).sort_values(by='importance', ascending=False)\n",
    "print(importance_df)\n"
   ]
  },
  {
   "cell_type": "code",
   "execution_count": 113,
   "id": "063714ac",
   "metadata": {},
   "outputs": [
    {
     "name": "stdout",
     "output_type": "stream",
     "text": [
      "Mejor combinación para Verano:\n",
      "Zona                    Buenos Aires\n",
      "DíaSemana                   Saturday\n",
      "cantidad_canciones                25\n",
      "Mes                                1\n",
      "aforo                          80000\n",
      "popularidad_predicha        0.456042\n",
      "Name: 0, dtype: object\n"
     ]
    }
   ],
   "source": [
    "def mejor_combinacion(estacion=None, zona=None, dia_semana=None, aforo=None):\n",
    "    \"\"\"    Encuentra la mejor combinación de variables para maximizar la popularidad predicha.\n",
    "    Args:\n",
    "        estacion (str): Estación del año (Verano, Otoño, Invierno, Primavera).\n",
    "        zona (str): Zona geográfica (Buenos Aires, Interior Buenos Aires, Interior, etc.).\n",
    "        dia_semana (str): Día de la semana (Monday, Tuesday, etc.).\n",
    "        aforo (int): Aforo del lugar del concierto.\n",
    "    Returns:\n",
    "        pd.Series: La mejor combinación de variables con la popularidad predicha.\n",
    "    \"\"\"\n",
    "    # Valores posibles\n",
    "    dias_semana = ['Monday', 'Tuesday', 'Wednesday', 'Thursday', 'Friday', 'Saturday', 'Sunday']\n",
    "    estaciones = ['Verano', 'Otoño', 'Invierno', 'Primavera']\n",
    "    zonas = df_conciertos_sin_ineditos['Zona'].cat.categories.tolist()\n",
    "    aforos = df_conciertos_sin_ineditos['aforo'].unique().tolist()\n",
    "\n",
    "    # Valores típicos para numéricas\n",
    "    cantidad_canciones = int(df_conciertos_sin_ineditos['cantidad_canciones'].mean())\n",
    "    aforo = int(df_conciertos_sin_ineditos['aforo'].max())\n",
    "    mes = 1\n",
    "\n",
    "    # Fijar los valores dados, variar los otros\n",
    "    if estacion is not None:\n",
    "        estaciones = [estacion]\n",
    "    if zona is not None:\n",
    "        zonas = [zona]\n",
    "    if dia_semana is not None:\n",
    "        dias_semana = [dia_semana]\n",
    "    if aforos is not None:\n",
    "        aforos = [aforo]\n",
    "    \n",
    "\n",
    "    # Todas las combinaciones posibles de los libres\n",
    "    import itertools\n",
    "    combinaciones = list(itertools.product(dias_semana, estaciones, zonas, festivales))\n",
    "\n",
    "    # DataFrame de simulación\n",
    "    df_sim = pd.DataFrame([\n",
    "        {\n",
    "            'cantidad_canciones': cantidad_canciones,\n",
    "            'aforo': aforo,\n",
    "            'Mes': mes,\n",
    "            'DíaSemana': dsem,\n",
    "            'Estacion': est,\n",
    "            'Zona': z,\n",
    "        }\n",
    "        for dsem, est, z, fest in combinaciones\n",
    "    ])\n",
    "\n",
    "    # Predecir\n",
    "    df_sim['popularidad_predicha'] = pipeline.predict(df_sim)\n",
    "    mejor = df_sim.sort_values('popularidad_predicha', ascending=False).iloc[0]\n",
    "    return mejor\n",
    "\n",
    "# Ejemplo de uso:\n",
    "mejor = mejor_combinacion(dia_semana='Saturday', estacion='Otoño', zona='Buenos Aires',aforo = 80000)\n",
    "print(\"Mejor combinación para Verano:\")\n",
    "print(mejor[['Zona', 'DíaSemana', 'cantidad_canciones', 'Mes', 'aforo', 'popularidad_predicha']])"
   ]
  },
  {
   "cell_type": "code",
   "execution_count": 141,
   "id": "e1d16ed5",
   "metadata": {},
   "outputs": [
    {
     "data": {
      "text/html": [
       "<div>\n",
       "<style scoped>\n",
       "    .dataframe tbody tr th:only-of-type {\n",
       "        vertical-align: middle;\n",
       "    }\n",
       "\n",
       "    .dataframe tbody tr th {\n",
       "        vertical-align: top;\n",
       "    }\n",
       "\n",
       "    .dataframe thead th {\n",
       "        text-align: right;\n",
       "    }\n",
       "</style>\n",
       "<table border=\"1\" class=\"dataframe\">\n",
       "  <thead>\n",
       "    <tr style=\"text-align: right;\">\n",
       "      <th></th>\n",
       "      <th>cancion</th>\n",
       "      <th>posicion</th>\n",
       "    </tr>\n",
       "  </thead>\n",
       "  <tbody>\n",
       "    <tr>\n",
       "      <th>0</th>\n",
       "      <td>Ximenita</td>\n",
       "      <td>1</td>\n",
       "    </tr>\n",
       "    <tr>\n",
       "      <th>1</th>\n",
       "      <td>Taxi Boy</td>\n",
       "      <td>2</td>\n",
       "    </tr>\n",
       "    <tr>\n",
       "      <th>2</th>\n",
       "      <td>Babilonia</td>\n",
       "      <td>3</td>\n",
       "    </tr>\n",
       "    <tr>\n",
       "      <th>3</th>\n",
       "      <td>Ay ay ay</td>\n",
       "      <td>4</td>\n",
       "    </tr>\n",
       "    <tr>\n",
       "      <th>4</th>\n",
       "      <td>Gris</td>\n",
       "      <td>5</td>\n",
       "    </tr>\n",
       "    <tr>\n",
       "      <th>...</th>\n",
       "      <td>...</td>\n",
       "      <td>...</td>\n",
       "    </tr>\n",
       "    <tr>\n",
       "      <th>3180</th>\n",
       "      <td>El farolito</td>\n",
       "      <td>29</td>\n",
       "    </tr>\n",
       "    <tr>\n",
       "      <th>3181</th>\n",
       "      <td>El balneario de los doctores crotos</td>\n",
       "      <td>30</td>\n",
       "    </tr>\n",
       "    <tr>\n",
       "      <th>3182</th>\n",
       "      <td>Cruel</td>\n",
       "      <td>31</td>\n",
       "    </tr>\n",
       "    <tr>\n",
       "      <th>3183</th>\n",
       "      <td>Finale</td>\n",
       "      <td>32</td>\n",
       "    </tr>\n",
       "    <tr>\n",
       "      <th>3184</th>\n",
       "      <td>Himno Nacional Argentino</td>\n",
       "      <td>33</td>\n",
       "    </tr>\n",
       "  </tbody>\n",
       "</table>\n",
       "<p>3185 rows × 2 columns</p>\n",
       "</div>"
      ],
      "text/plain": [
       "                                  cancion  posicion\n",
       "0                                Ximenita         1\n",
       "1                                Taxi Boy         2\n",
       "2                               Babilonia         3\n",
       "3                                Ay ay ay         4\n",
       "4                                    Gris         5\n",
       "...                                   ...       ...\n",
       "3180                          El farolito        29\n",
       "3181  El balneario de los doctores crotos        30\n",
       "3182                                Cruel        31\n",
       "3183                               Finale        32\n",
       "3184             Himno Nacional Argentino        33\n",
       "\n",
       "[3185 rows x 2 columns]"
      ]
     },
     "execution_count": 141,
     "metadata": {},
     "output_type": "execute_result"
    }
   ],
   "source": [
    "import pandas as pd\n",
    "from collections import Counter\n",
    "\n",
    "# 1. Filtrá shows populares\n",
    "umbral_top = df_conciertos_sin_ineditos['indice_popularidad_norm'].quantile(0.1)\n",
    "top_shows = df_conciertos_sin_ineditos[df_conciertos_sin_ineditos['indice_popularidad_norm'] >= umbral_top]\n",
    "\n",
    "# 2. Expandí a una tabla con canción y posición\n",
    "records = []\n",
    "for canciones in top_shows['canciones_show'].dropna():\n",
    "    for pos, cancion in enumerate(canciones, 1):\n",
    "        records.append({'cancion': cancion, 'posicion': pos})\n",
    "\n",
    "df_posiciones = pd.DataFrame(records)\n",
    "df_posiciones\n"
   ]
  },
  {
   "cell_type": "code",
   "execution_count": 144,
   "id": "97e7029b",
   "metadata": {},
   "outputs": [
    {
     "data": {
      "text/plain": [
       "cancion\n",
       "El farolito                            96\n",
       "Tan solo                               94\n",
       "Fijate                                 90\n",
       "Maradó                                 87\n",
       "Finale                                 84\n",
       "Desde lejos no se ve                   83\n",
       "Taxi Boy                               83\n",
       "Ruleta                                 81\n",
       "El balneario de los doctores crotos    79\n",
       "Intro Maradó                           78\n",
       "Pistolas                               76\n",
       "Muévelo                                75\n",
       "Luz de marfil                          73\n",
       "Genius                                 69\n",
       "Todo pasa                              69\n",
       "Cruel                                  68\n",
       "Ay ay ay                               67\n",
       "Fantasma                               59\n",
       "Babilonia                              57\n",
       "Te diría                               57\n",
       "Labios de seda                         54\n",
       "Vine hasta aquí                        53\n",
       "Pacífico                               51\n",
       "Chac tu chac                           51\n",
       "Bicho de ciudad                        49\n",
       "Agua                                   48\n",
       "Morella                                45\n",
       "Difícil                                43\n",
       "María y José                           42\n",
       "Civilización                           42\n",
       "Name: count, dtype: int64"
      ]
     },
     "execution_count": 144,
     "metadata": {},
     "output_type": "execute_result"
    }
   ],
   "source": [
    "# 3. Calculá frecuencia y posición promedio\n",
    "conteo = df_posiciones['cancion'].value_counts()\n",
    "pos_prom = df_posiciones.groupby('cancion')['posicion'].mean()\n",
    "conteo.head(30)"
   ]
  },
  {
   "cell_type": "code",
   "execution_count": 153,
   "id": "7f06d4ae",
   "metadata": {},
   "outputs": [
    {
     "data": {
      "text/html": [
       "<div>\n",
       "<style scoped>\n",
       "    .dataframe tbody tr th:only-of-type {\n",
       "        vertical-align: middle;\n",
       "    }\n",
       "\n",
       "    .dataframe tbody tr th {\n",
       "        vertical-align: top;\n",
       "    }\n",
       "\n",
       "    .dataframe thead th {\n",
       "        text-align: right;\n",
       "    }\n",
       "</style>\n",
       "<table border=\"1\" class=\"dataframe\">\n",
       "  <thead>\n",
       "    <tr style=\"text-align: right;\">\n",
       "      <th></th>\n",
       "      <th>cancion</th>\n",
       "      <th>orden</th>\n",
       "    </tr>\n",
       "  </thead>\n",
       "  <tbody>\n",
       "    <tr>\n",
       "      <th>0</th>\n",
       "      <td>María y José</td>\n",
       "      <td>1</td>\n",
       "    </tr>\n",
       "    <tr>\n",
       "      <th>1</th>\n",
       "      <td>Taxi Boy</td>\n",
       "      <td>2</td>\n",
       "    </tr>\n",
       "    <tr>\n",
       "      <th>2</th>\n",
       "      <td>Te diría</td>\n",
       "      <td>3</td>\n",
       "    </tr>\n",
       "    <tr>\n",
       "      <th>3</th>\n",
       "      <td>Civilización</td>\n",
       "      <td>4</td>\n",
       "    </tr>\n",
       "    <tr>\n",
       "      <th>4</th>\n",
       "      <td>Desde lejos no se ve</td>\n",
       "      <td>5</td>\n",
       "    </tr>\n",
       "    <tr>\n",
       "      <th>5</th>\n",
       "      <td>Ay ay ay</td>\n",
       "      <td>6</td>\n",
       "    </tr>\n",
       "    <tr>\n",
       "      <th>6</th>\n",
       "      <td>Chac tu chac</td>\n",
       "      <td>7</td>\n",
       "    </tr>\n",
       "    <tr>\n",
       "      <th>7</th>\n",
       "      <td>Babilonia</td>\n",
       "      <td>8</td>\n",
       "    </tr>\n",
       "    <tr>\n",
       "      <th>8</th>\n",
       "      <td>Labios de seda</td>\n",
       "      <td>9</td>\n",
       "    </tr>\n",
       "    <tr>\n",
       "      <th>9</th>\n",
       "      <td>Fantasma</td>\n",
       "      <td>10</td>\n",
       "    </tr>\n",
       "    <tr>\n",
       "      <th>10</th>\n",
       "      <td>Tan solo</td>\n",
       "      <td>11</td>\n",
       "    </tr>\n",
       "    <tr>\n",
       "      <th>11</th>\n",
       "      <td>Intro Maradó</td>\n",
       "      <td>12</td>\n",
       "    </tr>\n",
       "    <tr>\n",
       "      <th>12</th>\n",
       "      <td>Luz de marfil</td>\n",
       "      <td>13</td>\n",
       "    </tr>\n",
       "    <tr>\n",
       "      <th>13</th>\n",
       "      <td>Maradó</td>\n",
       "      <td>14</td>\n",
       "    </tr>\n",
       "    <tr>\n",
       "      <th>14</th>\n",
       "      <td>Todo pasa</td>\n",
       "      <td>15</td>\n",
       "    </tr>\n",
       "    <tr>\n",
       "      <th>15</th>\n",
       "      <td>Fijate</td>\n",
       "      <td>16</td>\n",
       "    </tr>\n",
       "    <tr>\n",
       "      <th>16</th>\n",
       "      <td>Pacífico</td>\n",
       "      <td>17</td>\n",
       "    </tr>\n",
       "    <tr>\n",
       "      <th>17</th>\n",
       "      <td>Difícil</td>\n",
       "      <td>18</td>\n",
       "    </tr>\n",
       "    <tr>\n",
       "      <th>18</th>\n",
       "      <td>Agua</td>\n",
       "      <td>19</td>\n",
       "    </tr>\n",
       "    <tr>\n",
       "      <th>19</th>\n",
       "      <td>Bicho de ciudad</td>\n",
       "      <td>20</td>\n",
       "    </tr>\n",
       "    <tr>\n",
       "      <th>20</th>\n",
       "      <td>Vine hasta aquí</td>\n",
       "      <td>21</td>\n",
       "    </tr>\n",
       "    <tr>\n",
       "      <th>21</th>\n",
       "      <td>Pistolas</td>\n",
       "      <td>22</td>\n",
       "    </tr>\n",
       "    <tr>\n",
       "      <th>22</th>\n",
       "      <td>Morella</td>\n",
       "      <td>23</td>\n",
       "    </tr>\n",
       "    <tr>\n",
       "      <th>23</th>\n",
       "      <td>Ruleta</td>\n",
       "      <td>24</td>\n",
       "    </tr>\n",
       "    <tr>\n",
       "      <th>24</th>\n",
       "      <td>El farolito</td>\n",
       "      <td>25</td>\n",
       "    </tr>\n",
       "    <tr>\n",
       "      <th>25</th>\n",
       "      <td>Cruel</td>\n",
       "      <td>26</td>\n",
       "    </tr>\n",
       "    <tr>\n",
       "      <th>26</th>\n",
       "      <td>El balneario de los doctores crotos</td>\n",
       "      <td>27</td>\n",
       "    </tr>\n",
       "    <tr>\n",
       "      <th>27</th>\n",
       "      <td>Genius</td>\n",
       "      <td>28</td>\n",
       "    </tr>\n",
       "    <tr>\n",
       "      <th>28</th>\n",
       "      <td>Muévelo</td>\n",
       "      <td>29</td>\n",
       "    </tr>\n",
       "    <tr>\n",
       "      <th>29</th>\n",
       "      <td>Finale</td>\n",
       "      <td>30</td>\n",
       "    </tr>\n",
       "  </tbody>\n",
       "</table>\n",
       "</div>"
      ],
      "text/plain": [
       "                                cancion  orden\n",
       "0                          María y José      1\n",
       "1                              Taxi Boy      2\n",
       "2                              Te diría      3\n",
       "3                          Civilización      4\n",
       "4                  Desde lejos no se ve      5\n",
       "5                              Ay ay ay      6\n",
       "6                          Chac tu chac      7\n",
       "7                             Babilonia      8\n",
       "8                        Labios de seda      9\n",
       "9                              Fantasma     10\n",
       "10                             Tan solo     11\n",
       "11                         Intro Maradó     12\n",
       "12                        Luz de marfil     13\n",
       "13                               Maradó     14\n",
       "14                            Todo pasa     15\n",
       "15                               Fijate     16\n",
       "16                             Pacífico     17\n",
       "17                              Difícil     18\n",
       "18                                 Agua     19\n",
       "19                      Bicho de ciudad     20\n",
       "20                      Vine hasta aquí     21\n",
       "21                             Pistolas     22\n",
       "22                              Morella     23\n",
       "23                               Ruleta     24\n",
       "24                          El farolito     25\n",
       "25                                Cruel     26\n",
       "26  El balneario de los doctores crotos     27\n",
       "27                               Genius     28\n",
       "28                              Muévelo     29\n",
       "29                               Finale     30"
      ]
     },
     "execution_count": 153,
     "metadata": {},
     "output_type": "execute_result"
    }
   ],
   "source": [
    "# 4. Elegí las 18 más frecuentes y ordenalas por posición promedio\n",
    "top_canciones = conteo.head(30).index\n",
    "setlist_ideal = pd.DataFrame({\n",
    "    'cancion': top_canciones,\n",
    "    'posicion_promedio': pos_prom.loc[top_canciones]\n",
    "}).sort_values('posicion_promedio')\n",
    "\n",
    "# 5. Mostralo\n",
    "import matplotlib.pyplot as plt\n",
    "\n",
    "\n",
    "setlist_ideal = setlist_ideal.reset_index(drop=True)\n",
    "setlist_ideal['orden'] = setlist_ideal.index + 1\n",
    "setlist_ideal[['cancion', 'orden']]"
   ]
  },
  {
   "cell_type": "code",
   "execution_count": 163,
   "id": "17228454",
   "metadata": {},
   "outputs": [
    {
     "data": {
      "image/png": "[encoded data removed]",
      "text/plain": [
       "<Figure size 640x480 with 1 Axes>"
      ]
     },
     "metadata": {},
     "output_type": "display_data"
    }
   ],
   "source": [
    "# Definí qué es un \"hit\" (top 25% más populares)\n",
    "umbral_hit = df_popularidad['indice_popularidad_norm'].quantile(0.75)\n",
    "hits = set(df_popularidad[df_popularidad['indice_popularidad_norm'] >= umbral_hit]['cancion_norm'])\n",
    "\n",
    "def proporcion_hits(canciones):\n",
    "    if not isinstance(canciones, list) or len(canciones) == 0:\n",
    "        return 0\n",
    "    canciones_norm = [normalize(c) for c in canciones]\n",
    "    return sum(c in hits for c in canciones_norm) / len(canciones_norm)\n",
    "\n",
    "df_conciertos_sin_ineditos['proporcion_hits'] = df_conciertos_sin_ineditos['canciones_show'].apply(proporcion_hits)\n",
    "\n",
    "# Agrupá por ciudad (Localidad) y calculá el promedio de hits\n",
    "hits_por_ciudad = df_conciertos_sin_ineditos.groupby('Localidad')['proporcion_hits'].mean().sort_values(ascending=False)\n",
    "\n",
    "\n",
    "import matplotlib.pyplot as plt\n",
    "# Cargar la fuente desde el archivo directamente\n",
    "\n",
    "import matplotlib.font_manager as fm\n",
    "fuente_path = r\"C:\\Users\\Yo\\AppData\\Local\\Microsoft\\Windows\\Fonts\\Los_Piojos.ttf\"\n",
    "fuente_prop = fm.FontProperties(fname=fuente_path)\n",
    "\n",
    "top_n = 12  # Mostrá las 12 ciudades con más shows\n",
    "ax = hits_por_ciudad.head(top_n).plot(kind='bar', color='crimson')\n",
    "ax.set_title('Porcentaje promedio de hits tocados por ciudad', fontproperties=fuente_prop)\n",
    "ax.set_ylabel('Proporción de hits')\n",
    "ax.set_xlabel('Ciudad')\n",
    "ax.set_xticklabels(hits_por_ciudad.head(top_n).index, rotation=45, ha='right')\n",
    "ax.set_ylim(0, 1)\n",
    "plt.tight_layout()\n",
    "plt.show()"
   ]
  },
  {
   "cell_type": "code",
   "execution_count": 164,
   "id": "8afeb111",
   "metadata": {},
   "outputs": [
    {
     "data": {
      "image/png": "[encoded data removed]",
      "text/plain": [
       "<Figure size 1000x500 with 1 Axes>"
      ]
     },
     "metadata": {},
     "output_type": "display_data"
    }
   ],
   "source": [
    "# Para cada año, encontrá las canciones que se tocaron por primera vez\n",
    "cancion_primera_vez = {}\n",
    "\n",
    "for idx, row in df_conciertos_sin_ineditos.iterrows():\n",
    "    año = row['Año']\n",
    "    canciones = row['canciones_show']\n",
    "    if not isinstance(canciones, list):\n",
    "        continue\n",
    "    for c in canciones:\n",
    "        if c not in cancion_primera_vez:\n",
    "            cancion_primera_vez[c] = año\n",
    "\n",
    "# Armá un DataFrame con año y cantidad de \"estrenos\"\n",
    "df_estrenos = pd.Series(list(cancion_primera_vez.values())).value_counts().sort_index()\n",
    "df_estrenos = df_estrenos.rename_axis('Año').reset_index(name='Canciones nuevas')\n",
    "\n",
    "# Gráfico de barras\n",
    "plt.figure(figsize=(10,5))\n",
    "plt.bar(df_estrenos['Año'], df_estrenos['Canciones nuevas'], color='forestgreen')\n",
    "plt.title('Canciones nuevas incorporadas al setlist por año')\n",
    "plt.xlabel('Año')\n",
    "plt.ylabel('Cantidad de estrenos')\n",
    "plt.tight_layout()\n",
    "plt.show()"
   ]
  },
  {
   "cell_type": "code",
   "execution_count": 177,
   "id": "76c0ab02",
   "metadata": {},
   "outputs": [
    {
     "data": {
      "application/vnd.plotly.v1+json": {
       "config": {
        "plotlyServerURL": "https://plot.ly"
       },
       "data": [
        {
         "customdata": [
          [
           0.85,
           -27.4692,
           -58.8306
          ],
          [
           0.85,
           -46.4444,
           -67.5281
          ],
          [
           0.8260869565217391,
           41.3851,
           2.1734
          ],
          [
           0.7878787878787878,
           -38.9516,
           -68.0591
          ],
          [
           0.782608695652174,
           -43.2489,
           -65.3051
          ],
          [
           0.782608695652174,
           -51.623,
           -69.2168
          ],
          [
           0.7826086956521738,
           39.5696,
           2.6502
          ],
          [
           0.7519632414369256,
           -24.1858,
           -65.2995
          ],
          [
           0.7444444444444445,
           -31.5375,
           -68.5364
          ],
          [
           0.7368421052631579,
           45.4642,
           9.19
          ],
          [
           0.7142857142857143,
           -32.9833,
           -68.6833
          ],
          [
           0.6918181818181819,
           -26.8083,
           -65.2176
          ],
          [
           0.6863636363636363,
           -38.7196,
           -62.2724
          ],
          [
           0.6842105263157895,
           -32.3214,
           -58.0756
          ],
          [
           0.6666666666666666,
           -31.2776,
           -64.4927
          ],
          [
           0.6666666666666666,
           -24.7821,
           -65.4232
          ],
          [
           0.6666666666666666,
           -53.7877,
           -67.7095
          ],
          [
           0.6659334023464458,
           -45.8647,
           -67.4822
          ],
          [
           0.6521739130434783,
           -29.4131,
           -66.8558
          ],
          [
           0.6363636363636364,
           -32.4075,
           -63.2406
          ],
          [
           0.6333081330907419,
           -32.9468,
           -60.6393
          ],
          [
           0.6,
           -31.8167,
           -60.8333
          ],
          [
           0.6,
           -41.1335,
           -71.3103
          ],
          [
           0.5900482017055988,
           -32.8895,
           -68.8458
          ],
          [
           0.5806451612903226,
           -36.8927,
           -60.3225
          ],
          [
           0.5784334023464458,
           -31.2483,
           -64.4564
          ],
          [
           0.5773566072749814,
           -31.4201,
           -64.1888
          ],
          [
           0.5769230769230769,
           -35.5725,
           -58.0092
          ],
          [
           0.5714285714285714,
           -34.5456,
           -58.5236
          ],
          [
           0.5600373442664632,
           -38.0055,
           -57.5426
          ],
          [
           0.56,
           -32.0281,
           -61.2208
          ],
          [
           0.5397590102775351,
           -34.9214,
           -57.9544
          ],
          [
           0.492528801022734,
           -34.6037,
           -58.3816
          ],
          [
           0.45726495726495725,
           -31.6333,
           -60.7
          ],
          [
           0.447463768115942,
           -34.6635,
           -58.3651
          ],
          [
           0.42857142857142855,
           -37.2636,
           -56.9731
          ],
          [
           0.4230769230769231,
           -31.3929,
           -58.0189
          ]
         ],
         "hovertemplate": "<b>%{hovertext}</b><br><br>proporcion_hits=%{marker.color:.2f}<extra></extra>",
         "hovertext": [
          " Corrientes",
          " Caleta Olivia",
          " Barcelona",
          " Neuquén",
          " Trelew",
          " Río Gallegos",
          " Palma de Mallorca",
          " San Salvador de Jujuy",
          " San Juan",
          " Milan",
          " Rodeo del Medio",
          " San Miguel de Tucumán",
          " Bahía Blanca",
          " Paysandú",
          " Santa Maria de Punilla",
          " Salta",
          " Río Grande",
          " Comodoro Rivadavia",
          " La Rioja",
          " Villa María",
          " Rosario",
          " Sauce Viejo",
          " Bariloche",
          " Mendoza",
          " Olavarría",
          " Cosquín",
          " Córdoba",
          " Chascomús",
          " Villa Martelli",
          " Mar del Plata",
          " Galvez",
          " La Plata",
          " Buenos Aires",
          " Santa Fe",
          " Avellaneda",
          " Villa Gesell",
          " Concordia"
         ],
         "lat": [
          -27.4692,
          -46.4444,
          41.3851,
          -38.9516,
          -43.2489,
          -51.623,
          39.5696,
          -24.1858,
          -31.5375,
          45.4642,
          -32.9833,
          -26.8083,
          -38.7196,
          -32.3214,
          -31.2776,
          -24.7821,
          -53.7877,
          -45.8647,
          -29.4131,
          -32.4075,
          -32.9468,
          -31.8167,
          -41.1335,
          -32.8895,
          -36.8927,
          -31.2483,
          -31.4201,
          -35.5725,
          -34.5456,
          -38.0055,
          -32.0281,
          -34.9214,
          -34.6037,
          -31.6333,
          -34.6635,
          -37.2636,
          -31.3929
         ],
         "legendgroup": "",
         "lon": [
          -58.8306,
          -67.5281,
          2.1734,
          -68.0591,
          -65.3051,
          -69.2168,
          2.6502,
          -65.2995,
          -68.5364,
          9.19,
          -68.6833,
          -65.2176,
          -62.2724,
          -58.0756,
          -64.4927,
          -65.4232,
          -67.7095,
          -67.4822,
          -66.8558,
          -63.2406,
          -60.6393,
          -60.8333,
          -71.3103,
          -68.8458,
          -60.3225,
          -64.4564,
          -64.1888,
          -58.0092,
          -58.5236,
          -57.5426,
          -61.2208,
          -57.9544,
          -58.3816,
          -60.7,
          -58.3651,
          -56.9731,
          -58.0189
         ],
         "marker": {
          "color": [
           0.85,
           0.85,
           0.8260869565217391,
           0.7878787878787878,
           0.782608695652174,
           0.782608695652174,
           0.7826086956521738,
           0.7519632414369256,
           0.7444444444444445,
           0.7368421052631579,
           0.7142857142857143,
           0.6918181818181819,
           0.6863636363636363,
           0.6842105263157895,
           0.6666666666666666,
           0.6666666666666666,
           0.6666666666666666,
           0.6659334023464458,
           0.6521739130434783,
           0.6363636363636364,
           0.6333081330907419,
           0.6,
           0.6,
           0.5900482017055988,
           0.5806451612903226,
           0.5784334023464458,
           0.5773566072749814,
           0.5769230769230769,
           0.5714285714285714,
           0.5600373442664632,
           0.56,
           0.5397590102775351,
           0.492528801022734,
           0.45726495726495725,
           0.447463768115942,
           0.42857142857142855,
           0.4230769230769231
          ],
          "coloraxis": "coloraxis",
          "size": [
           0.85,
           0.85,
           0.8260869565217391,
           0.7878787878787878,
           0.782608695652174,
           0.782608695652174,
           0.7826086956521738,
           0.7519632414369256,
           0.7444444444444445,
           0.7368421052631579,
           0.7142857142857143,
           0.6918181818181819,
           0.6863636363636363,
           0.6842105263157895,
           0.6666666666666666,
           0.6666666666666666,
           0.6666666666666666,
           0.6659334023464458,
           0.6521739130434783,
           0.6363636363636364,
           0.6333081330907419,
           0.6,
           0.6,
           0.5900482017055988,
           0.5806451612903226,
           0.5784334023464458,
           0.5773566072749814,
           0.5769230769230769,
           0.5714285714285714,
           0.5600373442664632,
           0.56,
           0.5397590102775351,
           0.492528801022734,
           0.45726495726495725,
           0.447463768115942,
           0.42857142857142855,
           0.4230769230769231
          ],
          "sizemode": "area",
          "sizeref": 0.0009444444444444444
         },
         "mode": "markers",
         "name": "",
         "showlegend": false,
         "subplot": "mapbox",
         "type": "scattermapbox"
        }
       ],
       "layout": {
        "coloraxis": {
         "colorbar": {
          "title": {
           "text": "proporcion_hits"
          }
         },
         "colorscale": [
          [
           0,
           "rgb(255,247,236)"
          ],
          [
           0.125,
           "rgb(254,232,200)"
          ],
          [
           0.25,
           "rgb(253,212,158)"
          ],
          [
           0.375,
           "rgb(253,187,132)"
          ],
          [
           0.5,
           "rgb(252,141,89)"
          ],
          [
           0.625,
           "rgb(239,101,72)"
          ],
          [
           0.75,
           "rgb(215,48,31)"
          ],
          [
           0.875,
           "rgb(179,0,0)"
          ],
          [
           1,
           "rgb(127,0,0)"
          ]
         ]
        },
        "legend": {
         "itemsizing": "constant",
         "tracegroupgap": 0
        },
        "mapbox": {
         "center": {
          "lat": -28.875256756756755,
          "lon": -57.68920540540542
         },
         "domain": {
          "x": [
           0,
           1
          ],
          "y": [
           0,
           1
          ]
         },
         "style": "carto-positron",
         "zoom": 3
        },
        "margin": {
         "b": 0,
         "l": 0,
         "r": 0,
         "t": 40
        },
        "template": {
         "data": {
          "bar": [
           {
            "error_x": {
             "color": "#2a3f5f"
            },
            "error_y": {
             "color": "#2a3f5f"
            },
            "marker": {
             "line": {
              "color": "#E5ECF6",
              "width": 0.5
             },
             "pattern": {
              "fillmode": "overlay",
              "size": 10,
              "solidity": 0.2
             }
            },
            "type": "bar"
           }
          ],
          "barpolar": [
           {
            "marker": {
             "line": {
              "color": "#E5ECF6",
              "width": 0.5
             },
             "pattern": {
              "fillmode": "overlay",
              "size": 10,
              "solidity": 0.2
             }
            },
            "type": "barpolar"
           }
          ],
          "carpet": [
           {
            "aaxis": {
             "endlinecolor": "#2a3f5f",
             "gridcolor": "white",
             "linecolor": "white",
             "minorgridcolor": "white",
             "startlinecolor": "#2a3f5f"
            },
            "baxis": {
             "endlinecolor": "#2a3f5f",
             "gridcolor": "white",
             "linecolor": "white",
             "minorgridcolor": "white",
             "startlinecolor": "#2a3f5f"
            },
            "type": "carpet"
           }
          ],
          "choropleth": [
           {
            "colorbar": {
             "outlinewidth": 0,
             "ticks": ""
            },
            "type": "choropleth"
           }
          ],
          "contour": [
           {
            "colorbar": {
             "outlinewidth": 0,
             "ticks": ""
            },
            "colorscale": [
             [
              0,
              "#0d0887"
             ],
             [
              0.1111111111111111,
              "#46039f"
             ],
             [
              0.2222222222222222,
              "#7201a8"
             ],
             [
              0.3333333333333333,
              "#9c179e"
             ],
             [
              0.4444444444444444,
              "#bd3786"
             ],
             [
              0.5555555555555556,
              "#d8576b"
             ],
             [
              0.6666666666666666,
              "#ed7953"
             ],
             [
              0.7777777777777778,
              "#fb9f3a"
             ],
             [
              0.8888888888888888,
              "#fdca26"
             ],
             [
              1,
              "#f0f921"
             ]
            ],
            "type": "contour"
           }
          ],
          "contourcarpet": [
           {
            "colorbar": {
             "outlinewidth": 0,
             "ticks": ""
            },
            "type": "contourcarpet"
           }
          ],
          "heatmap": [
           {
            "colorbar": {
             "outlinewidth": 0,
             "ticks": ""
            },
            "colorscale": [
             [
              0,
              "#0d0887"
             ],
             [
              0.1111111111111111,
              "#46039f"
             ],
             [
              0.2222222222222222,
              "#7201a8"
             ],
             [
              0.3333333333333333,
              "#9c179e"
             ],
             [
              0.4444444444444444,
              "#bd3786"
             ],
             [
              0.5555555555555556,
              "#d8576b"
             ],
             [
              0.6666666666666666,
              "#ed7953"
             ],
             [
              0.7777777777777778,
              "#fb9f3a"
             ],
             [
              0.8888888888888888,
              "#fdca26"
             ],
             [
              1,
              "#f0f921"
             ]
            ],
            "type": "heatmap"
           }
          ],
          "heatmapgl": [
           {
            "colorbar": {
             "outlinewidth": 0,
             "ticks": ""
            },
            "colorscale": [
             [
              0,
              "#0d0887"
             ],
             [
              0.1111111111111111,
              "#46039f"
             ],
             [
              0.2222222222222222,
              "#7201a8"
             ],
             [
              0.3333333333333333,
              "#9c179e"
             ],
             [
              0.4444444444444444,
              "#bd3786"
             ],
             [
              0.5555555555555556,
              "#d8576b"
             ],
             [
              0.6666666666666666,
              "#ed7953"
             ],
             [
              0.7777777777777778,
              "#fb9f3a"
             ],
             [
              0.8888888888888888,
              "#fdca26"
             ],
             [
              1,
              "#f0f921"
             ]
            ],
            "type": "heatmapgl"
           }
          ],
          "histogram": [
           {
            "marker": {
             "pattern": {
              "fillmode": "overlay",
              "size": 10,
              "solidity": 0.2
             }
            },
            "type": "histogram"
           }
          ],
          "histogram2d": [
           {
            "colorbar": {
             "outlinewidth": 0,
             "ticks": ""
            },
            "colorscale": [
             [
              0,
              "#0d0887"
             ],
             [
              0.1111111111111111,
              "#46039f"
             ],
             [
              0.2222222222222222,
              "#7201a8"
             ],
             [
              0.3333333333333333,
              "#9c179e"
             ],
             [
              0.4444444444444444,
              "#bd3786"
             ],
             [
              0.5555555555555556,
              "#d8576b"
             ],
             [
              0.6666666666666666,
              "#ed7953"
             ],
             [
              0.7777777777777778,
              "#fb9f3a"
             ],
             [
              0.8888888888888888,
              "#fdca26"
             ],
             [
              1,
              "#f0f921"
             ]
            ],
            "type": "histogram2d"
           }
          ],
          "histogram2dcontour": [
           {
            "colorbar": {
             "outlinewidth": 0,
             "ticks": ""
            },
            "colorscale": [
             [
              0,
              "#0d0887"
             ],
             [
              0.1111111111111111,
              "#46039f"
             ],
             [
              0.2222222222222222,
              "#7201a8"
             ],
             [
              0.3333333333333333,
              "#9c179e"
             ],
             [
              0.4444444444444444,
              "#bd3786"
             ],
             [
              0.5555555555555556,
              "#d8576b"
             ],
             [
              0.6666666666666666,
              "#ed7953"
             ],
             [
              0.7777777777777778,
              "#fb9f3a"
             ],
             [
              0.8888888888888888,
              "#fdca26"
             ],
             [
              1,
              "#f0f921"
             ]
            ],
            "type": "histogram2dcontour"
           }
          ],
          "mesh3d": [
           {
            "colorbar": {
             "outlinewidth": 0,
             "ticks": ""
            },
            "type": "mesh3d"
           }
          ],
          "parcoords": [
           {
            "line": {
             "colorbar": {
              "outlinewidth": 0,
              "ticks": ""
             }
            },
            "type": "parcoords"
           }
          ],
          "pie": [
           {
            "automargin": true,
            "type": "pie"
           }
          ],
          "scatter": [
           {
            "fillpattern": {
             "fillmode": "overlay",
             "size": 10,
             "solidity": 0.2
            },
            "type": "scatter"
           }
          ],
          "scatter3d": [
           {
            "line": {
             "colorbar": {
              "outlinewidth": 0,
              "ticks": ""
             }
            },
            "marker": {
             "colorbar": {
              "outlinewidth": 0,
              "ticks": ""
             }
            },
            "type": "scatter3d"
           }
          ],
          "scattercarpet": [
           {
            "marker": {
             "colorbar": {
              "outlinewidth": 0,
              "ticks": ""
             }
            },
            "type": "scattercarpet"
           }
          ],
          "scattergeo": [
           {
            "marker": {
             "colorbar": {
              "outlinewidth": 0,
              "ticks": ""
             }
            },
            "type": "scattergeo"
           }
          ],
          "scattergl": [
           {
            "marker": {
             "colorbar": {
              "outlinewidth": 0,
              "ticks": ""
             }
            },
            "type": "scattergl"
           }
          ],
          "scattermapbox": [
           {
            "marker": {
             "colorbar": {
              "outlinewidth": 0,
              "ticks": ""
             }
            },
            "type": "scattermapbox"
           }
          ],
          "scatterpolar": [
           {
            "marker": {
             "colorbar": {
              "outlinewidth": 0,
              "ticks": ""
             }
            },
            "type": "scatterpolar"
           }
          ],
          "scatterpolargl": [
           {
            "marker": {
             "colorbar": {
              "outlinewidth": 0,
              "ticks": ""
             }
            },
            "type": "scatterpolargl"
           }
          ],
          "scatterternary": [
           {
            "marker": {
             "colorbar": {
              "outlinewidth": 0,
              "ticks": ""
             }
            },
            "type": "scatterternary"
           }
          ],
          "surface": [
           {
            "colorbar": {
             "outlinewidth": 0,
             "ticks": ""
            },
            "colorscale": [
             [
              0,
              "#0d0887"
             ],
             [
              0.1111111111111111,
              "#46039f"
             ],
             [
              0.2222222222222222,
              "#7201a8"
             ],
             [
              0.3333333333333333,
              "#9c179e"
             ],
             [
              0.4444444444444444,
              "#bd3786"
             ],
             [
              0.5555555555555556,
              "#d8576b"
             ],
             [
              0.6666666666666666,
              "#ed7953"
             ],
             [
              0.7777777777777778,
              "#fb9f3a"
             ],
             [
              0.8888888888888888,
              "#fdca26"
             ],
             [
              1,
              "#f0f921"
             ]
            ],
            "type": "surface"
           }
          ],
          "table": [
           {
            "cells": {
             "fill": {
              "color": "#EBF0F8"
             },
             "line": {
              "color": "white"
             }
            },
            "header": {
             "fill": {
              "color": "#C8D4E3"
             },
             "line": {
              "color": "white"
             }
            },
            "type": "table"
           }
          ]
         },
         "layout": {
          "annotationdefaults": {
           "arrowcolor": "#2a3f5f",
           "arrowhead": 0,
           "arrowwidth": 1
          },
          "autotypenumbers": "strict",
          "coloraxis": {
           "colorbar": {
            "outlinewidth": 0,
            "ticks": ""
           }
          },
          "colorscale": {
           "diverging": [
            [
             0,
             "#8e0152"
            ],
            [
             0.1,
             "#c51b7d"
            ],
            [
             0.2,
             "#de77ae"
            ],
            [
             0.3,
             "#f1b6da"
            ],
            [
             0.4,
             "#fde0ef"
            ],
            [
             0.5,
             "#f7f7f7"
            ],
            [
             0.6,
             "#e6f5d0"
            ],
            [
             0.7,
             "#b8e186"
            ],
            [
             0.8,
             "#7fbc41"
            ],
            [
             0.9,
             "#4d9221"
            ],
            [
             1,
             "#276419"
            ]
           ],
           "sequential": [
            [
             0,
             "#0d0887"
            ],
            [
             0.1111111111111111,
             "#46039f"
            ],
            [
             0.2222222222222222,
             "#7201a8"
            ],
            [
             0.3333333333333333,
             "#9c179e"
            ],
            [
             0.4444444444444444,
             "#bd3786"
            ],
            [
             0.5555555555555556,
             "#d8576b"
            ],
            [
             0.6666666666666666,
             "#ed7953"
            ],
            [
             0.7777777777777778,
             "#fb9f3a"
            ],
            [
             0.8888888888888888,
             "#fdca26"
            ],
            [
             1,
             "#f0f921"
            ]
           ],
           "sequentialminus": [
            [
             0,
             "#0d0887"
            ],
            [
             0.1111111111111111,
             "#46039f"
            ],
            [
             0.2222222222222222,
             "#7201a8"
            ],
            [
             0.3333333333333333,
             "#9c179e"
            ],
            [
             0.4444444444444444,
             "#bd3786"
            ],
            [
             0.5555555555555556,
             "#d8576b"
            ],
            [
             0.6666666666666666,
             "#ed7953"
            ],
            [
             0.7777777777777778,
             "#fb9f3a"
            ],
            [
             0.8888888888888888,
             "#fdca26"
            ],
            [
             1,
             "#f0f921"
            ]
           ]
          },
          "colorway": [
           "#636efa",
           "#EF553B",
           "#00cc96",
           "#ab63fa",
           "#FFA15A",
           "#19d3f3",
           "#FF6692",
           "#B6E880",
           "#FF97FF",
           "#FECB52"
          ],
          "font": {
           "color": "#2a3f5f"
          },
          "geo": {
           "bgcolor": "white",
           "lakecolor": "white",
           "landcolor": "#E5ECF6",
           "showlakes": true,
           "showland": true,
           "subunitcolor": "white"
          },
          "hoverlabel": {
           "align": "left"
          },
          "hovermode": "closest",
          "mapbox": {
           "style": "light"
          },
          "paper_bgcolor": "white",
          "plot_bgcolor": "#E5ECF6",
          "polar": {
           "angularaxis": {
            "gridcolor": "white",
            "linecolor": "white",
            "ticks": ""
           },
           "bgcolor": "#E5ECF6",
           "radialaxis": {
            "gridcolor": "white",
            "linecolor": "white",
            "ticks": ""
           }
          },
          "scene": {
           "xaxis": {
            "backgroundcolor": "#E5ECF6",
            "gridcolor": "white",
            "gridwidth": 2,
            "linecolor": "white",
            "showbackground": true,
            "ticks": "",
            "zerolinecolor": "white"
           },
           "yaxis": {
            "backgroundcolor": "#E5ECF6",
            "gridcolor": "white",
            "gridwidth": 2,
            "linecolor": "white",
            "showbackground": true,
            "ticks": "",
            "zerolinecolor": "white"
           },
           "zaxis": {
            "backgroundcolor": "#E5ECF6",
            "gridcolor": "white",
            "gridwidth": 2,
            "linecolor": "white",
            "showbackground": true,
            "ticks": "",
            "zerolinecolor": "white"
           }
          },
          "shapedefaults": {
           "line": {
            "color": "#2a3f5f"
           }
          },
          "ternary": {
           "aaxis": {
            "gridcolor": "white",
            "linecolor": "white",
            "ticks": ""
           },
           "baxis": {
            "gridcolor": "white",
            "linecolor": "white",
            "ticks": ""
           },
           "bgcolor": "#E5ECF6",
           "caxis": {
            "gridcolor": "white",
            "linecolor": "white",
            "ticks": ""
           }
          },
          "title": {
           "x": 0.05
          },
          "xaxis": {
           "automargin": true,
           "gridcolor": "white",
           "linecolor": "white",
           "ticks": "",
           "title": {
            "standoff": 15
           },
           "zerolinecolor": "white",
           "zerolinewidth": 2
          },
          "yaxis": {
           "automargin": true,
           "gridcolor": "white",
           "linecolor": "white",
           "ticks": "",
           "title": {
            "standoff": 15
           },
           "zerolinecolor": "white",
           "zerolinewidth": 2
          }
         }
        },
        "title": {
         "text": "Porcentaje promedio de hits tocados por ciudad"
        }
       }
      }
     },
     "metadata": {},
     "output_type": "display_data"
    }
   ],
   "source": [
    "import plotly.express as px\n",
    "ciudades_coords = {\n",
    "    'Concordia': (-31.3929, -58.0189),\n",
    "    'Avellaneda': (-34.6635, -58.3651),\n",
    "    'Buenos Aires': (-34.6037, -58.3816),\n",
    "    'La Plata': (-34.9214, -57.9544),\n",
    "    'Villa Gesell': (-37.2636, -56.9731),\n",
    "    'Santa Fe': (-31.6333, -60.7000),\n",
    "    'Córdoba': (-31.4201, -64.1888),\n",
    "    'Mar del Plata': (-38.0055, -57.5426),\n",
    "    'Cosquín': (-31.2483, -64.4564),\n",
    "    'Galvez': (-32.0281, -61.2208),\n",
    "    'San Juan': (-31.5375, -68.5364),\n",
    "    'Mendoza': (-32.8895, -68.8458),\n",
    "    'La Rioja': (-29.4131, -66.8558),\n",
    "    'Chascomús': (-35.5725, -58.0092),\n",
    "    'San Salvador de Jujuy': (-24.1858, -65.2995),\n",
    "    'Bariloche': (-41.1335, -71.3103),\n",
    "    'Sauce Viejo': (-31.8167, -60.8333),\n",
    "    'Paysandú': (-32.3214, -58.0756),\n",
    "    'San Miguel de Tucumán': (-26.8083, -65.2176),\n",
    "    'Comodoro Rivadavia': (-45.8647, -67.4822),\n",
    "    'Bahía Blanca': (-38.7196, -62.2724),\n",
    "    'Rosario': (-32.9468, -60.6393),\n",
    "    'Palma de Mallorca': (39.5696, 2.6502),\n",
    "    'Río Grande': (-53.7877, -67.7095),\n",
    "    'Salta': (-24.7821, -65.4232),\n",
    "    'Rodeo del Medio': (-32.9833, -68.6833),\n",
    "    'Villa María': (-32.4075, -63.2406),\n",
    "    'Río Gallegos': (-51.6230, -69.2168),\n",
    "    'Trelew': (-43.2489, -65.3051),\n",
    "    'Olavarría': (-36.8927, -60.3225),\n",
    "    'Neuquén': (-38.9516, -68.0591),\n",
    "    'Barcelona': (41.3851, 2.1734),\n",
    "    'Milan': (45.4642, 9.1900),\n",
    "    'Corrientes': (-27.4692, -58.8306),\n",
    "    'Caleta Olivia': (-46.4444, -67.5281),\n",
    "    'Santa Maria de Punilla': (-31.2776, -64.4927),\n",
    "    'Villa Martelli': (-34.5456, -58.5236)\n",
    "}\n",
    "# Armá el DataFrame para el mapa\n",
    "df_map = hits_por_ciudad.reset_index().rename(columns={'Localidad': 'Ciudad'})\n",
    "df_map['lat'] = df_map['Ciudad'].map(lambda x: ciudades_coords.get(x.strip(), (None, None))[0])\n",
    "df_map['lon'] = df_map['Ciudad'].map(lambda x: ciudades_coords.get(x.strip(), (None, None))[1])\n",
    "df_map = df_map.dropna(subset=['lat', 'lon'])\n",
    "\n",
    "fig = px.scatter_mapbox(\n",
    "    df_map,\n",
    "    lat=\"lat\",\n",
    "    lon=\"lon\",\n",
    "    size=\"proporcion_hits\",\n",
    "    color=\"proporcion_hits\",\n",
    "    color_continuous_scale=px.colors.sequential.OrRd,\n",
    "    size_max=30,\n",
    "    zoom=3,\n",
    "    hover_name=\"Ciudad\",\n",
    "    hover_data={\"proporcion_hits\":\":.2f\",\n",
    "                \"lat\": False, \"lon\": False\n",
    "                },\n",
    "    title=\"Porcentaje promedio de hits tocados por ciudad\"\n",
    ")\n",
    "fig.update_layout(mapbox_style=\"carto-positron\")\n",
    "fig.update_layout(margin={\"r\":0,\"t\":40,\"l\":0,\"b\":0})\n",
    "fig.show()"
   ]
  },
  {
   "cell_type": "code",
   "execution_count": 172,
   "id": "80097fda",
   "metadata": {},
   "outputs": [
    {
     "data": {
      "text/plain": [
       "array([' Concordia', ' Avellaneda', ' Buenos Aires', ' La Plata',\n",
       "       ' Villa Gesell', ' Santa Fe', ' Córdoba', ' Mar del Plata',\n",
       "       ' Cosquín', ' Galvez', ' San Juan', ' Mendoza', ' La Rioja',\n",
       "       ' Chascomús', ' San Salvador de Jujuy', ' Bariloche',\n",
       "       ' Sauce Viejo', ' Paysandú', ' San Miguel de Tucumán',\n",
       "       ' Comodoro Rivadavia', ' Bahía Blanca', ' Rosario',\n",
       "       ' Palma de Mallorca', ' Río Grande', ' Salta', ' Rodeo del Medio',\n",
       "       ' Villa María', ' Río Gallegos', ' Trelew', ' Olavarría',\n",
       "       ' Neuquén', ' Barcelona', ' Milan', ' Corrientes',\n",
       "       ' Caleta Olivia', ' Santa Maria de Punilla', ' Villa Martelli'],\n",
       "      dtype=object)"
      ]
     },
     "execution_count": 172,
     "metadata": {},
     "output_type": "execute_result"
    }
   ],
   "source": [
    "df_conciertos_sin_ineditos['Localidad'].unique()"
   ]
  },
  {
   "cell_type": "code",
   "execution_count": 170,
   "id": "e46b8bec",
   "metadata": {},
   "outputs": [
    {
     "data": {
      "application/vnd.plotly.v1+json": {
       "config": {
        "plotlyServerURL": "https://plot.ly"
       },
       "data": [
        {
         "link": {
          "source": [],
          "target": [],
          "value": []
         },
         "node": {
          "color": "green",
          "label": [],
          "line": {
           "color": "black",
           "width": 0.5
          },
          "pad": 15,
          "thickness": 15
         },
         "type": "sankey"
        }
       ],
       "layout": {
        "font": {
         "size": 10
        },
        "template": {
         "data": {
          "bar": [
           {
            "error_x": {
             "color": "#2a3f5f"
            },
            "error_y": {
             "color": "#2a3f5f"
            },
            "marker": {
             "line": {
              "color": "#E5ECF6",
              "width": 0.5
             },
             "pattern": {
              "fillmode": "overlay",
              "size": 10,
              "solidity": 0.2
             }
            },
            "type": "bar"
           }
          ],
          "barpolar": [
           {
            "marker": {
             "line": {
              "color": "#E5ECF6",
              "width": 0.5
             },
             "pattern": {
              "fillmode": "overlay",
              "size": 10,
              "solidity": 0.2
             }
            },
            "type": "barpolar"
           }
          ],
          "carpet": [
           {
            "aaxis": {
             "endlinecolor": "#2a3f5f",
             "gridcolor": "white",
             "linecolor": "white",
             "minorgridcolor": "white",
             "startlinecolor": "#2a3f5f"
            },
            "baxis": {
             "endlinecolor": "#2a3f5f",
             "gridcolor": "white",
             "linecolor": "white",
             "minorgridcolor": "white",
             "startlinecolor": "#2a3f5f"
            },
            "type": "carpet"
           }
          ],
          "choropleth": [
           {
            "colorbar": {
             "outlinewidth": 0,
             "ticks": ""
            },
            "type": "choropleth"
           }
          ],
          "contour": [
           {
            "colorbar": {
             "outlinewidth": 0,
             "ticks": ""
            },
            "colorscale": [
             [
              0,
              "#0d0887"
             ],
             [
              0.1111111111111111,
              "#46039f"
             ],
             [
              0.2222222222222222,
              "#7201a8"
             ],
             [
              0.3333333333333333,
              "#9c179e"
             ],
             [
              0.4444444444444444,
              "#bd3786"
             ],
             [
              0.5555555555555556,
              "#d8576b"
             ],
             [
              0.6666666666666666,
              "#ed7953"
             ],
             [
              0.7777777777777778,
              "#fb9f3a"
             ],
             [
              0.8888888888888888,
              "#fdca26"
             ],
             [
              1,
              "#f0f921"
             ]
            ],
            "type": "contour"
           }
          ],
          "contourcarpet": [
           {
            "colorbar": {
             "outlinewidth": 0,
             "ticks": ""
            },
            "type": "contourcarpet"
           }
          ],
          "heatmap": [
           {
            "colorbar": {
             "outlinewidth": 0,
             "ticks": ""
            },
            "colorscale": [
             [
              0,
              "#0d0887"
             ],
             [
              0.1111111111111111,
              "#46039f"
             ],
             [
              0.2222222222222222,
              "#7201a8"
             ],
             [
              0.3333333333333333,
              "#9c179e"
             ],
             [
              0.4444444444444444,
              "#bd3786"
             ],
             [
              0.5555555555555556,
              "#d8576b"
             ],
             [
              0.6666666666666666,
              "#ed7953"
             ],
             [
              0.7777777777777778,
              "#fb9f3a"
             ],
             [
              0.8888888888888888,
              "#fdca26"
             ],
             [
              1,
              "#f0f921"
             ]
            ],
            "type": "heatmap"
           }
          ],
          "heatmapgl": [
           {
            "colorbar": {
             "outlinewidth": 0,
             "ticks": ""
            },
            "colorscale": [
             [
              0,
              "#0d0887"
             ],
             [
              0.1111111111111111,
              "#46039f"
             ],
             [
              0.2222222222222222,
              "#7201a8"
             ],
             [
              0.3333333333333333,
              "#9c179e"
             ],
             [
              0.4444444444444444,
              "#bd3786"
             ],
             [
              0.5555555555555556,
              "#d8576b"
             ],
             [
              0.6666666666666666,
              "#ed7953"
             ],
             [
              0.7777777777777778,
              "#fb9f3a"
             ],
             [
              0.8888888888888888,
              "#fdca26"
             ],
             [
              1,
              "#f0f921"
             ]
            ],
            "type": "heatmapgl"
           }
          ],
          "histogram": [
           {
            "marker": {
             "pattern": {
              "fillmode": "overlay",
              "size": 10,
              "solidity": 0.2
             }
            },
            "type": "histogram"
           }
          ],
          "histogram2d": [
           {
            "colorbar": {
             "outlinewidth": 0,
             "ticks": ""
            },
            "colorscale": [
             [
              0,
              "#0d0887"
             ],
             [
              0.1111111111111111,
              "#46039f"
             ],
             [
              0.2222222222222222,
              "#7201a8"
             ],
             [
              0.3333333333333333,
              "#9c179e"
             ],
             [
              0.4444444444444444,
              "#bd3786"
             ],
             [
              0.5555555555555556,
              "#d8576b"
             ],
             [
              0.6666666666666666,
              "#ed7953"
             ],
             [
              0.7777777777777778,
              "#fb9f3a"
             ],
             [
              0.8888888888888888,
              "#fdca26"
             ],
             [
              1,
              "#f0f921"
             ]
            ],
            "type": "histogram2d"
           }
          ],
          "histogram2dcontour": [
           {
            "colorbar": {
             "outlinewidth": 0,
             "ticks": ""
            },
            "colorscale": [
             [
              0,
              "#0d0887"
             ],
             [
              0.1111111111111111,
              "#46039f"
             ],
             [
              0.2222222222222222,
              "#7201a8"
             ],
             [
              0.3333333333333333,
              "#9c179e"
             ],
             [
              0.4444444444444444,
              "#bd3786"
             ],
             [
              0.5555555555555556,
              "#d8576b"
             ],
             [
              0.6666666666666666,
              "#ed7953"
             ],
             [
              0.7777777777777778,
              "#fb9f3a"
             ],
             [
              0.8888888888888888,
              "#fdca26"
             ],
             [
              1,
              "#f0f921"
             ]
            ],
            "type": "histogram2dcontour"
           }
          ],
          "mesh3d": [
           {
            "colorbar": {
             "outlinewidth": 0,
             "ticks": ""
            },
            "type": "mesh3d"
           }
          ],
          "parcoords": [
           {
            "line": {
             "colorbar": {
              "outlinewidth": 0,
              "ticks": ""
             }
            },
            "type": "parcoords"
           }
          ],
          "pie": [
           {
            "automargin": true,
            "type": "pie"
           }
          ],
          "scatter": [
           {
            "fillpattern": {
             "fillmode": "overlay",
             "size": 10,
             "solidity": 0.2
            },
            "type": "scatter"
           }
          ],
          "scatter3d": [
           {
            "line": {
             "colorbar": {
              "outlinewidth": 0,
              "ticks": ""
             }
            },
            "marker": {
             "colorbar": {
              "outlinewidth": 0,
              "ticks": ""
             }
            },
            "type": "scatter3d"
           }
          ],
          "scattercarpet": [
           {
            "marker": {
             "colorbar": {
              "outlinewidth": 0,
              "ticks": ""
             }
            },
            "type": "scattercarpet"
           }
          ],
          "scattergeo": [
           {
            "marker": {
             "colorbar": {
              "outlinewidth": 0,
              "ticks": ""
             }
            },
            "type": "scattergeo"
           }
          ],
          "scattergl": [
           {
            "marker": {
             "colorbar": {
              "outlinewidth": 0,
              "ticks": ""
             }
            },
            "type": "scattergl"
           }
          ],
          "scattermapbox": [
           {
            "marker": {
             "colorbar": {
              "outlinewidth": 0,
              "ticks": ""
             }
            },
            "type": "scattermapbox"
           }
          ],
          "scatterpolar": [
           {
            "marker": {
             "colorbar": {
              "outlinewidth": 0,
              "ticks": ""
             }
            },
            "type": "scatterpolar"
           }
          ],
          "scatterpolargl": [
           {
            "marker": {
             "colorbar": {
              "outlinewidth": 0,
              "ticks": ""
             }
            },
            "type": "scatterpolargl"
           }
          ],
          "scatterternary": [
           {
            "marker": {
             "colorbar": {
              "outlinewidth": 0,
              "ticks": ""
             }
            },
            "type": "scatterternary"
           }
          ],
          "surface": [
           {
            "colorbar": {
             "outlinewidth": 0,
             "ticks": ""
            },
            "colorscale": [
             [
              0,
              "#0d0887"
             ],
             [
              0.1111111111111111,
              "#46039f"
             ],
             [
              0.2222222222222222,
              "#7201a8"
             ],
             [
              0.3333333333333333,
              "#9c179e"
             ],
             [
              0.4444444444444444,
              "#bd3786"
             ],
             [
              0.5555555555555556,
              "#d8576b"
             ],
             [
              0.6666666666666666,
              "#ed7953"
             ],
             [
              0.7777777777777778,
              "#fb9f3a"
             ],
             [
              0.8888888888888888,
              "#fdca26"
             ],
             [
              1,
              "#f0f921"
             ]
            ],
            "type": "surface"
           }
          ],
          "table": [
           {
            "cells": {
             "fill": {
              "color": "#EBF0F8"
             },
             "line": {
              "color": "white"
             }
            },
            "header": {
             "fill": {
              "color": "#C8D4E3"
             },
             "line": {
              "color": "white"
             }
            },
            "type": "table"
           }
          ]
         },
         "layout": {
          "annotationdefaults": {
           "arrowcolor": "#2a3f5f",
           "arrowhead": 0,
           "arrowwidth": 1
          },
          "autotypenumbers": "strict",
          "coloraxis": {
           "colorbar": {
            "outlinewidth": 0,
            "ticks": ""
           }
          },
          "colorscale": {
           "diverging": [
            [
             0,
             "#8e0152"
            ],
            [
             0.1,
             "#c51b7d"
            ],
            [
             0.2,
             "#de77ae"
            ],
            [
             0.3,
             "#f1b6da"
            ],
            [
             0.4,
             "#fde0ef"
            ],
            [
             0.5,
             "#f7f7f7"
            ],
            [
             0.6,
             "#e6f5d0"
            ],
            [
             0.7,
             "#b8e186"
            ],
            [
             0.8,
             "#7fbc41"
            ],
            [
             0.9,
             "#4d9221"
            ],
            [
             1,
             "#276419"
            ]
           ],
           "sequential": [
            [
             0,
             "#0d0887"
            ],
            [
             0.1111111111111111,
             "#46039f"
            ],
            [
             0.2222222222222222,
             "#7201a8"
            ],
            [
             0.3333333333333333,
             "#9c179e"
            ],
            [
             0.4444444444444444,
             "#bd3786"
            ],
            [
             0.5555555555555556,
             "#d8576b"
            ],
            [
             0.6666666666666666,
             "#ed7953"
            ],
            [
             0.7777777777777778,
             "#fb9f3a"
            ],
            [
             0.8888888888888888,
             "#fdca26"
            ],
            [
             1,
             "#f0f921"
            ]
           ],
           "sequentialminus": [
            [
             0,
             "#0d0887"
            ],
            [
             0.1111111111111111,
             "#46039f"
            ],
            [
             0.2222222222222222,
             "#7201a8"
            ],
            [
             0.3333333333333333,
             "#9c179e"
            ],
            [
             0.4444444444444444,
             "#bd3786"
            ],
            [
             0.5555555555555556,
             "#d8576b"
            ],
            [
             0.6666666666666666,
             "#ed7953"
            ],
            [
             0.7777777777777778,
             "#fb9f3a"
            ],
            [
             0.8888888888888888,
             "#fdca26"
            ],
            [
             1,
             "#f0f921"
            ]
           ]
          },
          "colorway": [
           "#636efa",
           "#EF553B",
           "#00cc96",
           "#ab63fa",
           "#FFA15A",
           "#19d3f3",
           "#FF6692",
           "#B6E880",
           "#FF97FF",
           "#FECB52"
          ],
          "font": {
           "color": "#2a3f5f"
          },
          "geo": {
           "bgcolor": "white",
           "lakecolor": "white",
           "landcolor": "#E5ECF6",
           "showlakes": true,
           "showland": true,
           "subunitcolor": "white"
          },
          "hoverlabel": {
           "align": "left"
          },
          "hovermode": "closest",
          "mapbox": {
           "style": "light"
          },
          "paper_bgcolor": "white",
          "plot_bgcolor": "#E5ECF6",
          "polar": {
           "angularaxis": {
            "gridcolor": "white",
            "linecolor": "white",
            "ticks": ""
           },
           "bgcolor": "#E5ECF6",
           "radialaxis": {
            "gridcolor": "white",
            "linecolor": "white",
            "ticks": ""
           }
          },
          "scene": {
           "xaxis": {
            "backgroundcolor": "#E5ECF6",
            "gridcolor": "white",
            "gridwidth": 2,
            "linecolor": "white",
            "showbackground": true,
            "ticks": "",
            "zerolinecolor": "white"
           },
           "yaxis": {
            "backgroundcolor": "#E5ECF6",
            "gridcolor": "white",
            "gridwidth": 2,
            "linecolor": "white",
            "showbackground": true,
            "ticks": "",
            "zerolinecolor": "white"
           },
           "zaxis": {
            "backgroundcolor": "#E5ECF6",
            "gridcolor": "white",
            "gridwidth": 2,
            "linecolor": "white",
            "showbackground": true,
            "ticks": "",
            "zerolinecolor": "white"
           }
          },
          "shapedefaults": {
           "line": {
            "color": "#2a3f5f"
           }
          },
          "ternary": {
           "aaxis": {
            "gridcolor": "white",
            "linecolor": "white",
            "ticks": ""
           },
           "baxis": {
            "gridcolor": "white",
            "linecolor": "white",
            "ticks": ""
           },
           "bgcolor": "#E5ECF6",
           "caxis": {
            "gridcolor": "white",
            "linecolor": "white",
            "ticks": ""
           }
          },
          "title": {
           "x": 0.05
          },
          "xaxis": {
           "automargin": true,
           "gridcolor": "white",
           "linecolor": "white",
           "ticks": "",
           "title": {
            "standoff": 15
           },
           "zerolinecolor": "white",
           "zerolinewidth": 2
          },
          "yaxis": {
           "automargin": true,
           "gridcolor": "white",
           "linecolor": "white",
           "ticks": "",
           "title": {
            "standoff": 15
           },
           "zerolinecolor": "white",
           "zerolinewidth": 2
          }
         }
        },
        "title": {
         "text": "Evolución de canciones nuevas por año (Sankey)"
        }
       }
      }
     },
     "metadata": {},
     "output_type": "display_data"
    }
   ],
   "source": [
    "import plotly.graph_objects as go\n",
    "\n",
    "# Armá los nodos (años y canciones nuevas)\n",
    "estrenos = []\n",
    "for idx, row in df_conciertos_sin_ineditos.iterrows():\n",
    "    año = row['Año']\n",
    "    canciones = row['canciones_show']\n",
    "    if not isinstance(canciones, list):\n",
    "        continue\n",
    "    for c in canciones:\n",
    "        if c not in cancion_primera_vez:\n",
    "            cancion_primera_vez[c] = año\n",
    "            estrenos.append((año, c))\n",
    "\n",
    "# Nodos: años + canciones\n",
    "anios = sorted(set(a for a, _ in estrenos))\n",
    "canciones = [c for _, c in estrenos]\n",
    "labels = [str(a) for a in anios] + canciones\n",
    "\n",
    "# Links\n",
    "source = []\n",
    "target = []\n",
    "value = []\n",
    "for a, c in estrenos:\n",
    "    source.append(labels.index(str(a)))\n",
    "    target.append(labels.index(c))\n",
    "    value.append(1)\n",
    "\n",
    "fig = go.Figure(data=[go.Sankey(\n",
    "    node=dict(\n",
    "        pad=15,\n",
    "        thickness=15,\n",
    "        line=dict(color=\"black\", width=0.5),\n",
    "        label=labels,\n",
    "        color=\"green\"\n",
    "    ),\n",
    "    link=dict(\n",
    "        source=source,\n",
    "        target=target,\n",
    "        value=value\n",
    "    ))])\n",
    "\n",
    "fig.update_layout(title_text=\"Evolución de canciones nuevas por año (Sankey)\", font_size=10)\n",
    "fig.show()"
   ]
  }
 ],
 "metadata": {
  "kernelspec": {
   "display_name": "Python 3",
   "language": "python",
   "name": "python3"
  },
  "language_info": {
   "codemirror_mode": {
    "name": "ipython",
    "version": 3
   },
   "file_extension": ".py",
   "mimetype": "text/x-python",
   "name": "python",
   "nbconvert_exporter": "python",
   "pygments_lexer": "ipython3",
   "version": "3.12.10"
  }
 },
 "nbformat": 4,
 "nbformat_minor": 5
}
